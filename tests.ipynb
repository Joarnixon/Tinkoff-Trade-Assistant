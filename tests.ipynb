{
 "cells": [
  {
   "cell_type": "code",
   "execution_count": 1,
   "metadata": {},
   "outputs": [],
   "source": [
    "from src.data.data_manager import DataManager\n",
    "from src.data.data_labeling import DataLabeler\n",
    "from src.features.feature_engineering import BuildFeatures\n",
    "from src.features.feature_selection import SelectFeatures\n",
    "from src.pipelines.data_pipeline import DataPipelineFactory\n",
    "from src.pipelines.train_pipeline import TrainPipelineFactory\n",
    "from src.data.data_validation import validate\n",
    "from hydra import initialize, compose\n",
    "import polars as pl\n",
    "from omegaconf.omegaconf import OmegaConf\n",
    "from config.config import update_processed_data_folder\n",
    "import time\n",
    "import random as rd"
   ]
  },
  {
   "cell_type": "code",
   "execution_count": 2,
   "metadata": {},
   "outputs": [],
   "source": [
    "initialize(version_base=None, config_path=\"config\", job_name=\"test\")\n",
    "cfg = compose(config_name=\"general.yaml\", return_hydra_config=True)"
   ]
  },
  {
   "cell_type": "code",
   "execution_count": 3,
   "metadata": {},
   "outputs": [],
   "source": [
    "dm = DataManager(cfg)\n",
    "dl = DataLabeler(cfg)"
   ]
  },
  {
   "cell_type": "code",
   "execution_count": 18,
   "metadata": {},
   "outputs": [],
   "source": [
    "shares = list(OmegaConf.to_container(OmegaConf.load(cfg.paths.shares_dict)).keys())"
   ]
  },
  {
   "cell_type": "code",
   "execution_count": 39,
   "metadata": {},
   "outputs": [
    {
     "name": "stdout",
     "output_type": "stream",
     "text": [
      "BBG000RJWGC4\n"
     ]
    }
   ],
   "source": [
    "# for i in range(len(shares)):\n",
    "#     sh = dm.load_share(shares[i])\n",
    "#     sh = sh.fill_nan(None)\n",
    "#     if any((sh.null_count().to_numpy() == 1)[0]):\n",
    "#         print(shares[i])\n",
    "#         break"
   ]
  },
  {
   "cell_type": "code",
   "execution_count": 4,
   "metadata": {},
   "outputs": [],
   "source": [
    "sh = dm.load_share('BBG000RJWGC4')"
   ]
  },
  {
   "cell_type": "code",
   "execution_count": 5,
   "metadata": {},
   "outputs": [
    {
     "data": {
      "text/plain": [
       "318"
      ]
     },
     "execution_count": 5,
     "metadata": {},
     "output_type": "execute_result"
    }
   ],
   "source": [
    "len(sh)"
   ]
  },
  {
   "cell_type": "code",
   "execution_count": 6,
   "metadata": {},
   "outputs": [],
   "source": [
    "sh, labels = dl.fit(sh)"
   ]
  },
  {
   "cell_type": "code",
   "execution_count": 7,
   "metadata": {},
   "outputs": [
    {
     "name": "stdout",
     "output_type": "stream",
     "text": [
      "278 9\n"
     ]
    }
   ],
   "source": [
    "print(len(sh), len(labels[labels == 1]))"
   ]
  },
  {
   "cell_type": "code",
   "execution_count": 8,
   "metadata": {},
   "outputs": [],
   "source": [
    "sh = validate(sh)"
   ]
  },
  {
   "cell_type": "code",
   "execution_count": 9,
   "metadata": {},
   "outputs": [
    {
     "data": {
      "text/html": [
       "<div><style>\n",
       ".dataframe > thead > tr,\n",
       ".dataframe > tbody > tr {\n",
       "  text-align: right;\n",
       "  white-space: pre-wrap;\n",
       "}\n",
       "</style>\n",
       "<small>shape: (1, 29)</small><table border=\"1\" class=\"dataframe\"><thead><tr><th>time</th><th>buyers_count</th><th>buyers_quantity</th><th>sellers_count</th><th>sellers_quantity</th><th>price_min</th><th>price_max</th><th>price_std</th><th>price_last</th><th>bids_min</th><th>bids_max</th><th>bids_std</th><th>bids_last</th><th>asks_min</th><th>asks_max</th><th>asks_std</th><th>asks_last</th><th>weighted_bid_min</th><th>weighted_bid_max</th><th>weighted_bid_std</th><th>weighted_bid_last</th><th>weighted_ask_min</th><th>weighted_ask_max</th><th>weighted_ask_std</th><th>weighted_ask_last</th><th>bid_to_ask_ratio_min</th><th>bid_to_ask_ratio_max</th><th>bid_to_ask_ratio_std</th><th>bid_to_ask_ratio_last</th></tr><tr><td>u32</td><td>u32</td><td>u32</td><td>u32</td><td>u32</td><td>u32</td><td>u32</td><td>u32</td><td>u32</td><td>u32</td><td>u32</td><td>u32</td><td>u32</td><td>u32</td><td>u32</td><td>u32</td><td>u32</td><td>u32</td><td>u32</td><td>u32</td><td>u32</td><td>u32</td><td>u32</td><td>u32</td><td>u32</td><td>u32</td><td>u32</td><td>u32</td><td>u32</td></tr></thead><tbody><tr><td>0</td><td>0</td><td>0</td><td>0</td><td>0</td><td>0</td><td>0</td><td>0</td><td>0</td><td>0</td><td>0</td><td>0</td><td>0</td><td>0</td><td>0</td><td>0</td><td>0</td><td>0</td><td>0</td><td>0</td><td>0</td><td>0</td><td>0</td><td>0</td><td>0</td><td>0</td><td>0</td><td>0</td><td>0</td></tr></tbody></table></div>"
      ],
      "text/plain": [
       "shape: (1, 29)\n",
       "┌──────┬────────────┬────────────┬────────────┬───┬────────────┬───────────┬───────────┬───────────┐\n",
       "│ time ┆ buyers_cou ┆ buyers_qua ┆ sellers_co ┆ … ┆ bid_to_ask ┆ bid_to_as ┆ bid_to_as ┆ bid_to_as │\n",
       "│ ---  ┆ nt         ┆ ntity      ┆ unt        ┆   ┆ _ratio_min ┆ k_ratio_m ┆ k_ratio_s ┆ k_ratio_l │\n",
       "│ u32  ┆ ---        ┆ ---        ┆ ---        ┆   ┆ ---        ┆ ax        ┆ td        ┆ ast       │\n",
       "│      ┆ u32        ┆ u32        ┆ u32        ┆   ┆ u32        ┆ ---       ┆ ---       ┆ ---       │\n",
       "│      ┆            ┆            ┆            ┆   ┆            ┆ u32       ┆ u32       ┆ u32       │\n",
       "╞══════╪════════════╪════════════╪════════════╪═══╪════════════╪═══════════╪═══════════╪═══════════╡\n",
       "│ 0    ┆ 0          ┆ 0          ┆ 0          ┆ … ┆ 0          ┆ 0         ┆ 0         ┆ 0         │\n",
       "└──────┴────────────┴────────────┴────────────┴───┴────────────┴───────────┴───────────┴───────────┘"
      ]
     },
     "execution_count": 9,
     "metadata": {},
     "output_type": "execute_result"
    }
   ],
   "source": [
    "sh.fill_nan(None).null_count()"
   ]
  },
  {
   "cell_type": "code",
   "execution_count": 13,
   "metadata": {},
   "outputs": [],
   "source": [
    "import matplotlib.pyplot as plt"
   ]
  },
  {
   "cell_type": "code",
   "execution_count": 14,
   "metadata": {},
   "outputs": [],
   "source": [
    "a = 160"
   ]
  },
  {
   "cell_type": "code",
   "execution_count": 16,
   "metadata": {},
   "outputs": [
    {
     "data": {
      "text/plain": [
       "<matplotlib.collections.PathCollection at 0x25032f8ba50>"
      ]
     },
     "execution_count": 16,
     "metadata": {},
     "output_type": "execute_result"
    },
    {
     "data": {
      "image/png": "[encoded data removed]",
      "text/plain": [
       "<Figure size 640x480 with 1 Axes>"
      ]
     },
     "metadata": {},
     "output_type": "display_data"
    }
   ],
   "source": [
    "plt.plot(sh['time'].to_numpy()[a:], sh['price_last'].to_numpy()[a:])\n",
    "plt.scatter(sh['time'].to_numpy()[labels==1], sh['price_last'].to_numpy()[labels==1], color='r')"
   ]
  },
  {
   "cell_type": "code",
   "execution_count": 5,
   "metadata": {},
   "outputs": [],
   "source": [
    "import logging"
   ]
  },
  {
   "cell_type": "code",
   "execution_count": 6,
   "metadata": {},
   "outputs": [],
   "source": [
    "logger = logging.getLogger()"
   ]
  },
  {
   "cell_type": "code",
   "execution_count": 2,
   "metadata": {},
   "outputs": [],
   "source": [
    "initialize(version_base=None, config_path=\"config\", job_name=\"test\")\n",
    "cfg = compose(config_name=\"general.yaml\", return_hydra_config=True)"
   ]
  },
  {
   "cell_type": "code",
   "execution_count": 11,
   "metadata": {},
   "outputs": [],
   "source": [
    "update_processed_data_folder(cfg)"
   ]
  },
  {
   "cell_type": "code",
   "execution_count": 3,
   "metadata": {},
   "outputs": [],
   "source": [
    "dm = DataManager(cfg)"
   ]
  },
  {
   "cell_type": "code",
   "execution_count": 6,
   "metadata": {},
   "outputs": [],
   "source": [
    "sh = dm.load_share('TCS00A106YF0')"
   ]
  },
  {
   "cell_type": "code",
   "execution_count": 18,
   "metadata": {},
   "outputs": [],
   "source": [
    "dp = DataPipelineFactory.create_offline_pipeline(cfg)\n",
    "tp = TrainPipelineFactory.create_ml_pipeline(cfg)"
   ]
  },
  {
   "cell_type": "code",
   "execution_count": 19,
   "metadata": {},
   "outputs": [],
   "source": [
    "sh = dp.transform(sh, 'BBG000RJWGC4')"
   ]
  },
  {
   "cell_type": "code",
   "execution_count": 20,
   "metadata": {},
   "outputs": [
    {
     "data": {
      "text/html": [
       "<div><style>\n",
       ".dataframe > thead > tr,\n",
       ".dataframe > tbody > tr {\n",
       "  text-align: right;\n",
       "  white-space: pre-wrap;\n",
       "}\n",
       "</style>\n",
       "<small>shape: (200, 31)</small><table border=\"1\" class=\"dataframe\"><thead><tr><th>time</th><th>buyers_count</th><th>buyers_quantity</th><th>sellers_count</th><th>sellers_quantity</th><th>price_min</th><th>price_max</th><th>price_std</th><th>price_last</th><th>bids_min</th><th>bids_max</th><th>bids_std</th><th>bids_last</th><th>asks_min</th><th>asks_max</th><th>asks_std</th><th>asks_last</th><th>weighted_bid_min</th><th>weighted_bid_max</th><th>weighted_bid_std</th><th>weighted_bid_last</th><th>weighted_ask_min</th><th>weighted_ask_max</th><th>weighted_ask_std</th><th>weighted_ask_last</th><th>bid_to_ask_ratio_min</th><th>bid_to_ask_ratio_max</th><th>bid_to_ask_ratio_std</th><th>bid_to_ask_ratio_last</th><th>buy_sell_quantity_ratio</th><th>slope</th></tr><tr><td>f64</td><td>f64</td><td>f64</td><td>f64</td><td>f64</td><td>f64</td><td>f64</td><td>f64</td><td>f64</td><td>f64</td><td>f64</td><td>f64</td><td>f64</td><td>f64</td><td>f64</td><td>f64</td><td>f64</td><td>f64</td><td>f64</td><td>f64</td><td>f64</td><td>f64</td><td>f64</td><td>f64</td><td>f64</td><td>f64</td><td>f64</td><td>f64</td><td>f64</td><td>f64</td><td>f64</td></tr></thead><tbody><tr><td>1.7198e9</td><td>0.0</td><td>0.0</td><td>2.0</td><td>9.0</td><td>72.12</td><td>72.12</td><td>0.0</td><td>72.12</td><td>315.0</td><td>328.0</td><td>4.558016</td><td>316.0</td><td>49.0</td><td>56.0</td><td>2.118914</td><td>56.0</td><td>72.06405</td><td>72.07778</td><td>0.005921</td><td>72.07778</td><td>72.404</td><td>72.4437</td><td>0.013361</td><td>72.42643</td><td>5.64286</td><td>6.42857</td><td>0.23232</td><td>5.64286</td><td>0.0</td><td>0.0</td></tr><tr><td>1.7198e9</td><td>0.0</td><td>0.0</td><td>2.0</td><td>40.0</td><td>72.12</td><td>72.12</td><td>0.0</td><td>72.12</td><td>263.0</td><td>375.0</td><td>36.494577</td><td>267.0</td><td>34.0</td><td>56.0</td><td>6.244998</td><td>54.0</td><td>72.06899</td><td>72.09814</td><td>0.00908</td><td>72.06899</td><td>72.35565</td><td>72.43571</td><td>0.021354</td><td>72.38148</td><td>4.94444</td><td>10.73529</td><td>1.341577</td><td>4.94444</td><td>0.0</td><td>0.0</td></tr><tr><td>1.7198e9</td><td>1.0</td><td>1.0</td><td>0.0</td><td>0.0</td><td>72.12</td><td>72.12</td><td>0.0</td><td>72.12</td><td>256.0</td><td>264.0</td><td>2.231232</td><td>263.0</td><td>36.0</td><td>62.0</td><td>6.708204</td><td>57.0</td><td>72.06821</td><td>72.07583</td><td>0.002511</td><td>72.06821</td><td>72.33167</td><td>72.42548</td><td>0.020401</td><td>72.3814</td><td>4.24194</td><td>7.33333</td><td>0.758161</td><td>4.61404</td><td>1.0</td><td>0.0</td></tr><tr><td>1.7198e9</td><td>5.0</td><td>5.0</td><td>5.0</td><td>22.0</td><td>72.14</td><td>72.32</td><td>0.080738</td><td>72.14</td><td>246.0</td><td>275.0</td><td>6.358669</td><td>260.0</td><td>41.0</td><td>72.0</td><td>5.712037</td><td>60.0</td><td>72.05505</td><td>72.10016</td><td>0.008921</td><td>72.06846</td><td>72.36758</td><td>72.50441</td><td>0.026727</td><td>72.36967</td><td>3.55556</td><td>6.39024</td><td>0.510884</td><td>4.33333</td><td>0.227273</td><td>0.0</td></tr><tr><td>1.7198e9</td><td>1.0</td><td>1.0</td><td>0.0</td><td>0.0</td><td>72.12</td><td>72.12</td><td>0.0</td><td>72.12</td><td>254.0</td><td>279.0</td><td>5.722096</td><td>267.0</td><td>53.0</td><td>64.0</td><td>3.880486</td><td>63.0</td><td>72.05404</td><td>72.07409</td><td>0.005334</td><td>72.0576</td><td>72.36857</td><td>72.41869</td><td>0.016684</td><td>72.37841</td><td>4.14286</td><td>5.13208</td><td>0.302656</td><td>4.2381</td><td>1.0</td><td>0.0</td></tr><tr><td>&hellip;</td><td>&hellip;</td><td>&hellip;</td><td>&hellip;</td><td>&hellip;</td><td>&hellip;</td><td>&hellip;</td><td>&hellip;</td><td>&hellip;</td><td>&hellip;</td><td>&hellip;</td><td>&hellip;</td><td>&hellip;</td><td>&hellip;</td><td>&hellip;</td><td>&hellip;</td><td>&hellip;</td><td>&hellip;</td><td>&hellip;</td><td>&hellip;</td><td>&hellip;</td><td>&hellip;</td><td>&hellip;</td><td>&hellip;</td><td>&hellip;</td><td>&hellip;</td><td>&hellip;</td><td>&hellip;</td><td>&hellip;</td><td>&hellip;</td><td>&hellip;</td></tr><tr><td>1.7199e9</td><td>0.0</td><td>0.0</td><td>13.0</td><td>48.0</td><td>71.02</td><td>71.02</td><td>0.0</td><td>71.02</td><td>55.0</td><td>59.0</td><td>1.054267</td><td>58.0</td><td>99.0</td><td>142.0</td><td>6.944821</td><td>134.0</td><td>70.88691</td><td>70.90517</td><td>0.00408</td><td>70.90069</td><td>71.47274</td><td>71.61563</td><td>0.027609</td><td>71.52254</td><td>0.39855</td><td>0.55556</td><td>0.026309</td><td>0.43284</td><td>0.0</td><td>-0.005195</td></tr><tr><td>1.7199e9</td><td>0.0</td><td>0.0</td><td>3.0</td><td>16.0</td><td>71.0</td><td>71.0</td><td>0.0</td><td>71.0</td><td>44.0</td><td>45.0</td><td>0.28748</td><td>45.0</td><td>76.0</td><td>141.0</td><td>15.143716</td><td>136.0</td><td>70.85864</td><td>70.86933</td><td>0.003765</td><td>70.86933</td><td>71.33662</td><td>71.5995</td><td>0.044295</td><td>71.49765</td><td>0.31206</td><td>0.57895</td><td>0.053126</td><td>0.33088</td><td>0.0</td><td>0.0</td></tr><tr><td>1.7199e9</td><td>1.0</td><td>1.0</td><td>0.0</td><td>0.0</td><td>71.0</td><td>71.0</td><td>0.0</td><td>71.0</td><td>42.0</td><td>44.0</td><td>0.24913</td><td>42.0</td><td>87.0</td><td>139.0</td><td>16.291813</td><td>113.0</td><td>70.85535</td><td>70.86372</td><td>0.003741</td><td>70.86</td><td>71.29609</td><td>71.48955</td><td>0.050516</td><td>71.36761</td><td>0.30935</td><td>0.49425</td><td>0.054332</td><td>0.37168</td><td>1.0</td><td>0.0</td></tr><tr><td>1.7199e9</td><td>1.0</td><td>5.0</td><td>0.0</td><td>0.0</td><td>71.18</td><td>71.18</td><td>0.0</td><td>71.18</td><td>28.0</td><td>42.0</td><td>2.451938</td><td>28.0</td><td>92.0</td><td>141.0</td><td>9.951155</td><td>138.0</td><td>70.8519</td><td>70.92071</td><td>0.01074</td><td>70.92071</td><td>71.32128</td><td>71.53626</td><td>0.035891</td><td>71.43174</td><td>0.19858</td><td>0.375</td><td>0.027999</td><td>0.2029</td><td>5.0</td><td>0.0</td></tr><tr><td>1.7199e9</td><td>0.0</td><td>0.0</td><td>1.0</td><td>2.0</td><td>71.12</td><td>71.12</td><td>0.0</td><td>71.12</td><td>26.0</td><td>34.0</td><td>1.720768</td><td>27.0</td><td>75.0</td><td>135.0</td><td>12.478757</td><td>130.0</td><td>70.8525</td><td>70.93</td><td>0.009646</td><td>70.91111</td><td>71.31196</td><td>71.53061</td><td>0.041222</td><td>71.46723</td><td>0.19697</td><td>0.44</td><td>0.035205</td><td>0.20769</td><td>0.0</td><td>0.0</td></tr></tbody></table></div>"
      ],
      "text/plain": [
       "shape: (200, 31)\n",
       "┌──────────┬───────────┬───────────┬───────────┬───┬───────────┬───────────┬───────────┬───────────┐\n",
       "│ time     ┆ buyers_co ┆ buyers_qu ┆ sellers_c ┆ … ┆ bid_to_as ┆ bid_to_as ┆ buy_sell_ ┆ slope     │\n",
       "│ ---      ┆ unt       ┆ antity    ┆ ount      ┆   ┆ k_ratio_s ┆ k_ratio_l ┆ quantity_ ┆ ---       │\n",
       "│ f64      ┆ ---       ┆ ---       ┆ ---       ┆   ┆ td        ┆ ast       ┆ ratio     ┆ f64       │\n",
       "│          ┆ f64       ┆ f64       ┆ f64       ┆   ┆ ---       ┆ ---       ┆ ---       ┆           │\n",
       "│          ┆           ┆           ┆           ┆   ┆ f64       ┆ f64       ┆ f64       ┆           │\n",
       "╞══════════╪═══════════╪═══════════╪═══════════╪═══╪═══════════╪═══════════╪═══════════╪═══════════╡\n",
       "│ 1.7198e9 ┆ 0.0       ┆ 0.0       ┆ 2.0       ┆ … ┆ 0.23232   ┆ 5.64286   ┆ 0.0       ┆ 0.0       │\n",
       "│ 1.7198e9 ┆ 0.0       ┆ 0.0       ┆ 2.0       ┆ … ┆ 1.341577  ┆ 4.94444   ┆ 0.0       ┆ 0.0       │\n",
       "│ 1.7198e9 ┆ 1.0       ┆ 1.0       ┆ 0.0       ┆ … ┆ 0.758161  ┆ 4.61404   ┆ 1.0       ┆ 0.0       │\n",
       "│ 1.7198e9 ┆ 5.0       ┆ 5.0       ┆ 5.0       ┆ … ┆ 0.510884  ┆ 4.33333   ┆ 0.227273  ┆ 0.0       │\n",
       "│ 1.7198e9 ┆ 1.0       ┆ 1.0       ┆ 0.0       ┆ … ┆ 0.302656  ┆ 4.2381    ┆ 1.0       ┆ 0.0       │\n",
       "│ …        ┆ …         ┆ …         ┆ …         ┆ … ┆ …         ┆ …         ┆ …         ┆ …         │\n",
       "│ 1.7199e9 ┆ 0.0       ┆ 0.0       ┆ 13.0      ┆ … ┆ 0.026309  ┆ 0.43284   ┆ 0.0       ┆ -0.005195 │\n",
       "│ 1.7199e9 ┆ 0.0       ┆ 0.0       ┆ 3.0       ┆ … ┆ 0.053126  ┆ 0.33088   ┆ 0.0       ┆ 0.0       │\n",
       "│ 1.7199e9 ┆ 1.0       ┆ 1.0       ┆ 0.0       ┆ … ┆ 0.054332  ┆ 0.37168   ┆ 1.0       ┆ 0.0       │\n",
       "│ 1.7199e9 ┆ 1.0       ┆ 5.0       ┆ 0.0       ┆ … ┆ 0.027999  ┆ 0.2029    ┆ 5.0       ┆ 0.0       │\n",
       "│ 1.7199e9 ┆ 0.0       ┆ 0.0       ┆ 1.0       ┆ … ┆ 0.035205  ┆ 0.20769   ┆ 0.0       ┆ 0.0       │\n",
       "└──────────┴───────────┴───────────┴───────────┴───┴───────────┴───────────┴───────────┴───────────┘"
      ]
     },
     "execution_count": 20,
     "metadata": {},
     "output_type": "execute_result"
    }
   ],
   "source": [
    "sh"
   ]
  },
  {
   "cell_type": "code",
   "execution_count": 10,
   "metadata": {},
   "outputs": [],
   "source": [
    "import torch\n",
    "import torch.nn as nn\n",
    "from torch.utils.tensorboard import SummaryWriter\n",
    "from src.model.loss import cross_entropy_loss\n",
    "from sklearn.model_selection import train_test_split\n",
    "from torch.utils.data import DataLoader, TensorDataset\n",
    "from src.model.baseline import LinearNN\n",
    "import polars as pl"
   ]
  },
  {
   "cell_type": "code",
   "execution_count": 55,
   "metadata": {},
   "outputs": [],
   "source": [
    "def train(model, data, labels, device='cpu', monitor=None, batch_size=20, test_size=0.3, random_state=42, shuffle=True):\n",
    "    data_train, data_val, labels_train, labels_val = train_test_split(data, labels, test_size=test_size, random_state=random_state, shuffle=shuffle, stratify=labels)\n",
    "\n",
    "    data_train = data_train.to_numpy()\n",
    "    labels_train = labels_train.to_numpy()\n",
    "\n",
    "    data_val = data_val.to_numpy()\n",
    "    labels_val = labels_val.to_numpy()\n",
    "    train_dataset = TensorDataset(torch.tensor(data_train, dtype=torch.float32), torch.tensor(labels_train, dtype=torch.long))\n",
    "    val_dataset = TensorDataset(torch.tensor(data_val, dtype=torch.float32), torch.tensor(labels_val, dtype=torch.long))\n",
    "\n",
    "    train_loader = DataLoader(train_dataset, batch_size=batch_size)\n",
    "    val_loader = DataLoader(val_dataset, batch_size=batch_size)\n",
    "    \n",
    "    model = model.to(device)\n",
    "    optimizer = torch.optim.Adam(model.parameters(), lr=0.001)\n",
    "    for epoch in range(100):\n",
    "        for data, label in train_loader:\n",
    "            data, labels = data.to(device), label.to(device).squeeze(-1)\n",
    "            optimizer.zero_grad()\n",
    "            output, preds = model(data)\n",
    "            loss = cross_entropy_loss(output, label)\n",
    "            loss.backward()\n",
    "            optimizer.step()\n",
    "        print(loss)\n",
    "    "
   ]
  },
  {
   "cell_type": "code",
   "execution_count": 56,
   "metadata": {},
   "outputs": [],
   "source": [
    "labels = pl.Series(labels)"
   ]
  },
  {
   "cell_type": "code",
   "execution_count": 57,
   "metadata": {},
   "outputs": [],
   "source": [
    "model = LinearNN(29, 3, 3)"
   ]
  },
  {
   "cell_type": "code",
   "execution_count": 58,
   "metadata": {},
   "outputs": [
    {
     "name": "stdout",
     "output_type": "stream",
     "text": [
      "tensor(13360170., grad_fn=<NllLossBackward0>)\n",
      "tensor(8008598.5000, grad_fn=<NllLossBackward0>)\n",
      "tensor(3346149.5000, grad_fn=<NllLossBackward0>)\n",
      "tensor(1.2429, grad_fn=<NllLossBackward0>)\n",
      "tensor(1.2316, grad_fn=<NllLossBackward0>)\n",
      "tensor(1.2200, grad_fn=<NllLossBackward0>)\n",
      "tensor(1.2088, grad_fn=<NllLossBackward0>)\n",
      "tensor(1.1979, grad_fn=<NllLossBackward0>)\n",
      "tensor(1.1871, grad_fn=<NllLossBackward0>)\n",
      "tensor(1.1765, grad_fn=<NllLossBackward0>)\n",
      "tensor(1.1659, grad_fn=<NllLossBackward0>)\n",
      "tensor(1.1555, grad_fn=<NllLossBackward0>)\n",
      "tensor(1.1451, grad_fn=<NllLossBackward0>)\n",
      "tensor(1.1348, grad_fn=<NllLossBackward0>)\n",
      "tensor(1.1246, grad_fn=<NllLossBackward0>)\n",
      "tensor(1.1144, grad_fn=<NllLossBackward0>)\n",
      "tensor(1.1043, grad_fn=<NllLossBackward0>)\n",
      "tensor(1.0943, grad_fn=<NllLossBackward0>)\n",
      "tensor(1.0843, grad_fn=<NllLossBackward0>)\n",
      "tensor(1.0744, grad_fn=<NllLossBackward0>)\n",
      "tensor(1.0646, grad_fn=<NllLossBackward0>)\n",
      "tensor(1.0549, grad_fn=<NllLossBackward0>)\n",
      "tensor(1.0452, grad_fn=<NllLossBackward0>)\n",
      "tensor(1.0356, grad_fn=<NllLossBackward0>)\n",
      "tensor(1.0261, grad_fn=<NllLossBackward0>)\n",
      "tensor(1.0166, grad_fn=<NllLossBackward0>)\n",
      "tensor(1.0072, grad_fn=<NllLossBackward0>)\n",
      "tensor(0.9980, grad_fn=<NllLossBackward0>)\n",
      "tensor(0.9887, grad_fn=<NllLossBackward0>)\n",
      "tensor(0.9796, grad_fn=<NllLossBackward0>)\n",
      "tensor(0.9706, grad_fn=<NllLossBackward0>)\n",
      "tensor(0.9616, grad_fn=<NllLossBackward0>)\n",
      "tensor(0.9527, grad_fn=<NllLossBackward0>)\n",
      "tensor(0.9440, grad_fn=<NllLossBackward0>)\n",
      "tensor(0.9353, grad_fn=<NllLossBackward0>)\n",
      "tensor(0.9266, grad_fn=<NllLossBackward0>)\n",
      "tensor(0.9181, grad_fn=<NllLossBackward0>)\n",
      "tensor(0.9097, grad_fn=<NllLossBackward0>)\n",
      "tensor(0.9013, grad_fn=<NllLossBackward0>)\n",
      "tensor(0.8930, grad_fn=<NllLossBackward0>)\n",
      "tensor(0.8849, grad_fn=<NllLossBackward0>)\n",
      "tensor(0.8768, grad_fn=<NllLossBackward0>)\n",
      "tensor(0.8688, grad_fn=<NllLossBackward0>)\n",
      "tensor(0.8608, grad_fn=<NllLossBackward0>)\n",
      "tensor(0.8530, grad_fn=<NllLossBackward0>)\n",
      "tensor(0.8453, grad_fn=<NllLossBackward0>)\n",
      "tensor(0.8376, grad_fn=<NllLossBackward0>)\n",
      "tensor(0.8301, grad_fn=<NllLossBackward0>)\n",
      "tensor(0.8226, grad_fn=<NllLossBackward0>)\n",
      "tensor(0.8152, grad_fn=<NllLossBackward0>)\n",
      "tensor(0.8079, grad_fn=<NllLossBackward0>)\n",
      "tensor(0.8007, grad_fn=<NllLossBackward0>)\n",
      "tensor(0.7936, grad_fn=<NllLossBackward0>)\n",
      "tensor(0.7865, grad_fn=<NllLossBackward0>)\n",
      "tensor(0.7796, grad_fn=<NllLossBackward0>)\n",
      "tensor(0.7727, grad_fn=<NllLossBackward0>)\n",
      "tensor(0.7659, grad_fn=<NllLossBackward0>)\n",
      "tensor(0.7592, grad_fn=<NllLossBackward0>)\n",
      "tensor(0.7526, grad_fn=<NllLossBackward0>)\n",
      "tensor(0.7461, grad_fn=<NllLossBackward0>)\n",
      "tensor(0.7396, grad_fn=<NllLossBackward0>)\n",
      "tensor(0.7333, grad_fn=<NllLossBackward0>)\n",
      "tensor(0.7270, grad_fn=<NllLossBackward0>)\n",
      "tensor(0.7208, grad_fn=<NllLossBackward0>)\n",
      "tensor(0.7147, grad_fn=<NllLossBackward0>)\n",
      "tensor(0.7086, grad_fn=<NllLossBackward0>)\n",
      "tensor(0.7027, grad_fn=<NllLossBackward0>)\n",
      "tensor(0.6968, grad_fn=<NllLossBackward0>)\n",
      "tensor(0.6910, grad_fn=<NllLossBackward0>)\n",
      "tensor(0.6853, grad_fn=<NllLossBackward0>)\n",
      "tensor(0.6796, grad_fn=<NllLossBackward0>)\n",
      "tensor(0.6741, grad_fn=<NllLossBackward0>)\n",
      "tensor(0.6686, grad_fn=<NllLossBackward0>)\n",
      "tensor(0.6632, grad_fn=<NllLossBackward0>)\n",
      "tensor(0.6578, grad_fn=<NllLossBackward0>)\n",
      "tensor(0.6525, grad_fn=<NllLossBackward0>)\n",
      "tensor(0.6473, grad_fn=<NllLossBackward0>)\n",
      "tensor(0.6422, grad_fn=<NllLossBackward0>)\n",
      "tensor(0.6372, grad_fn=<NllLossBackward0>)\n",
      "tensor(0.6322, grad_fn=<NllLossBackward0>)\n",
      "tensor(0.6273, grad_fn=<NllLossBackward0>)\n",
      "tensor(0.6224, grad_fn=<NllLossBackward0>)\n",
      "tensor(0.6177, grad_fn=<NllLossBackward0>)\n",
      "tensor(0.6129, grad_fn=<NllLossBackward0>)\n",
      "tensor(0.6083, grad_fn=<NllLossBackward0>)\n",
      "tensor(0.6037, grad_fn=<NllLossBackward0>)\n",
      "tensor(0.5992, grad_fn=<NllLossBackward0>)\n",
      "tensor(0.5948, grad_fn=<NllLossBackward0>)\n",
      "tensor(0.5904, grad_fn=<NllLossBackward0>)\n",
      "tensor(0.5861, grad_fn=<NllLossBackward0>)\n",
      "tensor(0.5818, grad_fn=<NllLossBackward0>)\n",
      "tensor(0.5776, grad_fn=<NllLossBackward0>)\n",
      "tensor(0.5735, grad_fn=<NllLossBackward0>)\n",
      "tensor(0.5694, grad_fn=<NllLossBackward0>)\n",
      "tensor(0.5654, grad_fn=<NllLossBackward0>)\n",
      "tensor(0.5615, grad_fn=<NllLossBackward0>)\n",
      "tensor(0.5576, grad_fn=<NllLossBackward0>)\n",
      "tensor(0.5537, grad_fn=<NllLossBackward0>)\n",
      "tensor(0.5500, grad_fn=<NllLossBackward0>)\n",
      "tensor(0.5462, grad_fn=<NllLossBackward0>)\n"
     ]
    }
   ],
   "source": [
    "train(model, sh, labels)"
   ]
  },
  {
   "cell_type": "code",
   "execution_count": null,
   "metadata": {},
   "outputs": [],
   "source": []
  }
 ],
 "metadata": {
  "kernelspec": {
   "display_name": "Python 3",
   "language": "python",
   "name": "python3"
  },
  "language_info": {
   "codemirror_mode": {
    "name": "ipython",
    "version": 3
   },
   "file_extension": ".py",
   "mimetype": "text/x-python",
   "name": "python",
   "nbconvert_exporter": "python",
   "pygments_lexer": "ipython3",
   "version": "3.11.9"
  }
 },
 "nbformat": 4,
 "nbformat_minor": 2
}
