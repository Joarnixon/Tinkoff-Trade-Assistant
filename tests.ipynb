{
 "cells": [
  {
   "cell_type": "code",
   "execution_count": 1,
   "metadata": {},
   "outputs": [],
   "source": [
    "from src.data.data_manager import DataManager\n",
    "from src.data.data_labeling import DataLabeler\n",
    "from src.features.feature_engineering import BuildFeatures\n",
    "from src.features.feature_selection import SelectFeatures\n",
    "from hydra import initialize, compose\n",
    "from omegaconf import DictConfig\n",
    "import pandas as pd\n",
    "import numpy as np\n",
    "import polars as pl\n",
    "import time\n",
    "import random as rd"
   ]
  },
  {
   "cell_type": "code",
   "execution_count": 2,
   "metadata": {},
   "outputs": [],
   "source": [
    "initialize(version_base=None, config_path=\"config\", job_name=\"test\")\n",
    "cfg = compose(config_name=\"general.yaml\", return_hydra_config=True)\n",
    "dm = DataManager(cfg)\n",
    "dl = DataLabeler(cfg)\n",
    "build_features = BuildFeatures(cfg)\n",
    "select_features = SelectFeatures(cfg)"
   ]
  },
  {
   "cell_type": "code",
   "execution_count": 3,
   "metadata": {},
   "outputs": [],
   "source": [
    "sh = dm.load_share('BBG0100R9963')"
   ]
  },
  {
   "cell_type": "code",
   "execution_count": 4,
   "metadata": {},
   "outputs": [],
   "source": [
    "points = []"
   ]
  },
  {
   "cell_type": "code",
   "execution_count": 5,
   "metadata": {},
   "outputs": [],
   "source": [
    "timer = int(time.time())\n",
    "price = 10000\n",
    "for j in range(5000):\n",
    "    price += (rd.random() - 0.5) * 10 * (rd.random() + rd.random() + rd.random() + rd.random() + rd.random() + rd.random() + rd.random() + rd.random() + rd.random() + rd.random() + rd.random() + rd.random() + rd.random() + rd.random() + rd.random() + rd.random() + rd.random())\n",
    "    point = [1 for i in range(29)]\n",
    "    point[0] = timer\n",
    "    point[2] = rd.randint(0, 100)\n",
    "    point[4] = rd.randint(0, 100)\n",
    "    point[8] = price\n",
    "    points.append(point)\n",
    "    timer += rd.randint(1, 5)"
   ]
  },
  {
   "cell_type": "code",
   "execution_count": 6,
   "metadata": {},
   "outputs": [],
   "source": [
    "# point = [1 for i in range(29)]\n",
    "# point[0] = int(time.time())"
   ]
  },
  {
   "cell_type": "code",
   "execution_count": 7,
   "metadata": {},
   "outputs": [],
   "source": [
    "sh = pl.DataFrame(points, schema=sh.columns)"
   ]
  },
  {
   "cell_type": "code",
   "execution_count": 8,
   "metadata": {},
   "outputs": [],
   "source": [
    "sh, labels = dl.label_dataset(sh)"
   ]
  },
  {
   "cell_type": "code",
   "execution_count": 9,
   "metadata": {},
   "outputs": [],
   "source": [
    "for i in range(3000):\n",
    "    labels[rd.randint(0, 4000)] = 1 if price > 10000 else -1"
   ]
  },
  {
   "cell_type": "code",
   "execution_count": 10,
   "metadata": {},
   "outputs": [
    {
     "name": "stdout",
     "output_type": "stream",
     "text": [
      "Features less important than random noise:\n",
      "- price_min\n",
      "- buyers_quantity\n",
      "[0.71379385 0.         0.28620615] [0. 0. 0.]\n"
     ]
    }
   ],
   "source": [
    "select_features(sh.select(['price_last', 'price_min', 'buyers_quantity']), labels)"
   ]
  },
  {
   "cell_type": "code",
   "execution_count": null,
   "metadata": {},
   "outputs": [],
   "source": []
  }
 ],
 "metadata": {
  "kernelspec": {
   "display_name": "Python 3",
   "language": "python",
   "name": "python3"
  },
  "language_info": {
   "codemirror_mode": {
    "name": "ipython",
    "version": 3
   },
   "file_extension": ".py",
   "mimetype": "text/x-python",
   "name": "python",
   "nbconvert_exporter": "python",
   "pygments_lexer": "ipython3",
   "version": "3.11.9"
  }
 },
 "nbformat": 4,
 "nbformat_minor": 2
}
