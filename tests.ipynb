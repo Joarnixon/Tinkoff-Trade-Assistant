{
 "cells": [
  {
   "cell_type": "code",
   "execution_count": 1,
   "metadata": {},
   "outputs": [],
   "source": [
    "from src.data.data_manager import DataManager\n",
    "from hydra import initialize, compose\n",
    "from omegaconf import DictConfig\n",
    "import pandas as pd\n",
    "import numpy as np\n",
    "import polars"
   ]
  },
  {
   "cell_type": "code",
   "execution_count": 2,
   "metadata": {},
   "outputs": [],
   "source": [
    "initialize(version_base=None, config_path=\"config\", job_name=\"test\")\n",
    "cfg = compose(config_name=\"general.yaml\", return_hydra_config=True)\n",
    "dm = DataManager(cfg)"
   ]
  },
  {
   "cell_type": "code",
   "execution_count": 3,
   "metadata": {},
   "outputs": [],
   "source": [
    "sh = dm.load_share('BBG0100R9963')"
   ]
  },
  {
   "cell_type": "code",
   "execution_count": 4,
   "metadata": {},
   "outputs": [
    {
     "data": {
      "text/html": [
       "<div><style>\n",
       ".dataframe > thead > tr,\n",
       ".dataframe > tbody > tr {\n",
       "  text-align: right;\n",
       "  white-space: pre-wrap;\n",
       "}\n",
       "</style>\n",
       "<small>shape: (9, 9)</small><table border=\"1\" class=\"dataframe\"><thead><tr><th>buyers_count</th><th>buyers_quantity</th><th>sellers_count</th><th>sellers_quantity</th><th>price</th><th>bids</th><th>asks</th><th>weighted_bid</th><th>weighted_ask</th></tr><tr><td>f64</td><td>f64</td><td>f64</td><td>f64</td><td>f64</td><td>f64</td><td>f64</td><td>f64</td><td>f64</td></tr></thead><tbody><tr><td>3.0</td><td>9.0</td><td>0.0</td><td>0.0</td><td>2.899</td><td>16529.0</td><td>14985.0</td><td>2.89029</td><td>2.90296</td></tr><tr><td>1.0</td><td>5.0</td><td>1.0</td><td>1.0</td><td>2.896</td><td>16529.0</td><td>15213.0</td><td>2.89032</td><td>2.90294</td></tr><tr><td>1.0</td><td>5.0</td><td>0.0</td><td>0.0</td><td>2.899</td><td>11393.0</td><td>18912.0</td><td>2.8929</td><td>2.9036</td></tr><tr><td>2.0</td><td>4.0</td><td>2.0</td><td>24.0</td><td>2.898</td><td>11367.0</td><td>17890.0</td><td>2.89308</td><td>2.90362</td></tr><tr><td>3.0</td><td>501.0</td><td>2.0</td><td>99.0</td><td>2.898</td><td>12995.0</td><td>15379.0</td><td>2.89239</td><td>2.9035</td></tr><tr><td>2.0</td><td>19.0</td><td>2.0</td><td>276.0</td><td>2.899</td><td>15057.0</td><td>15307.0</td><td>2.89162</td><td>2.90329</td></tr><tr><td>1.0</td><td>2.0</td><td>0.0</td><td>0.0</td><td>2.899</td><td>12950.0</td><td>15588.0</td><td>2.89235</td><td>2.90337</td></tr><tr><td>2.0</td><td>4.0</td><td>0.0</td><td>0.0</td><td>2.899</td><td>12735.0</td><td>15219.0</td><td>2.89228</td><td>2.90342</td></tr><tr><td>3.0</td><td>7.0</td><td>0.0</td><td>0.0</td><td>2.899</td><td>12735.0</td><td>15260.0</td><td>2.89228</td><td>2.90341</td></tr></tbody></table></div>"
      ],
      "text/plain": [
       "shape: (9, 9)\n",
       "┌────────────┬────────────┬────────────┬───────────┬───┬─────────┬─────────┬───────────┬───────────┐\n",
       "│ buyers_cou ┆ buyers_qua ┆ sellers_co ┆ sellers_q ┆ … ┆ bids    ┆ asks    ┆ weighted_ ┆ weighted_ │\n",
       "│ nt         ┆ ntity      ┆ unt        ┆ uantity   ┆   ┆ ---     ┆ ---     ┆ bid       ┆ ask       │\n",
       "│ ---        ┆ ---        ┆ ---        ┆ ---       ┆   ┆ f64     ┆ f64     ┆ ---       ┆ ---       │\n",
       "│ f64        ┆ f64        ┆ f64        ┆ f64       ┆   ┆         ┆         ┆ f64       ┆ f64       │\n",
       "╞════════════╪════════════╪════════════╪═══════════╪═══╪═════════╪═════════╪═══════════╪═══════════╡\n",
       "│ 3.0        ┆ 9.0        ┆ 0.0        ┆ 0.0       ┆ … ┆ 16529.0 ┆ 14985.0 ┆ 2.89029   ┆ 2.90296   │\n",
       "│ 1.0        ┆ 5.0        ┆ 1.0        ┆ 1.0       ┆ … ┆ 16529.0 ┆ 15213.0 ┆ 2.89032   ┆ 2.90294   │\n",
       "│ 1.0        ┆ 5.0        ┆ 0.0        ┆ 0.0       ┆ … ┆ 11393.0 ┆ 18912.0 ┆ 2.8929    ┆ 2.9036    │\n",
       "│ 2.0        ┆ 4.0        ┆ 2.0        ┆ 24.0      ┆ … ┆ 11367.0 ┆ 17890.0 ┆ 2.89308   ┆ 2.90362   │\n",
       "│ 3.0        ┆ 501.0      ┆ 2.0        ┆ 99.0      ┆ … ┆ 12995.0 ┆ 15379.0 ┆ 2.89239   ┆ 2.9035    │\n",
       "│ 2.0        ┆ 19.0       ┆ 2.0        ┆ 276.0     ┆ … ┆ 15057.0 ┆ 15307.0 ┆ 2.89162   ┆ 2.90329   │\n",
       "│ 1.0        ┆ 2.0        ┆ 0.0        ┆ 0.0       ┆ … ┆ 12950.0 ┆ 15588.0 ┆ 2.89235   ┆ 2.90337   │\n",
       "│ 2.0        ┆ 4.0        ┆ 0.0        ┆ 0.0       ┆ … ┆ 12735.0 ┆ 15219.0 ┆ 2.89228   ┆ 2.90342   │\n",
       "│ 3.0        ┆ 7.0        ┆ 0.0        ┆ 0.0       ┆ … ┆ 12735.0 ┆ 15260.0 ┆ 2.89228   ┆ 2.90341   │\n",
       "└────────────┴────────────┴────────────┴───────────┴───┴─────────┴─────────┴───────────┴───────────┘"
      ]
     },
     "execution_count": 4,
     "metadata": {},
     "output_type": "execute_result"
    }
   ],
   "source": [
    "sh"
   ]
  },
  {
   "cell_type": "code",
   "execution_count": 15,
   "metadata": {},
   "outputs": [],
   "source": [
    "dm.clear_share('BBG0100R9963')"
   ]
  },
  {
   "cell_type": "code",
   "execution_count": null,
   "metadata": {},
   "outputs": [],
   "source": []
  }
 ],
 "metadata": {
  "kernelspec": {
   "display_name": "Python 3",
   "language": "python",
   "name": "python3"
  },
  "language_info": {
   "codemirror_mode": {
    "name": "ipython",
    "version": 3
   },
   "file_extension": ".py",
   "mimetype": "text/x-python",
   "name": "python",
   "nbconvert_exporter": "python",
   "pygments_lexer": "ipython3",
   "version": "3.11.9"
  }
 },
 "nbformat": 4,
 "nbformat_minor": 2
}
