{
 "cells": [
  {
   "cell_type": "code",
   "execution_count": 1,
   "metadata": {},
   "outputs": [],
   "source": [
    "from src.data.data_manager import DataManager\n",
    "from src.data.data_labeling import DataLabeler\n",
    "from src.features.feature_engineering import BuildFeatures\n",
    "from src.features.feature_selection import SelectFeatures\n",
    "from src.pipelines.data_pipeline import DataPipelineFactory\n",
    "from src.pipelines.train_pipeline import TrainPipelineFactory\n",
    "from src.data.data_validation import validate\n",
    "from hydra import initialize, compose\n",
    "import polars as pl\n",
    "from omegaconf.omegaconf import OmegaConf\n",
    "from config.config import update_processed_data_folder\n",
    "import time\n",
    "import random as rd"
   ]
  },
  {
   "cell_type": "code",
   "execution_count": 2,
   "metadata": {},
   "outputs": [],
   "source": [
    "initialize(version_base=None, config_path=\"config\", job_name=\"test\")\n",
    "cfg = compose(config_name=\"general.yaml\", return_hydra_config=True)"
   ]
  },
  {
   "cell_type": "code",
   "execution_count": 3,
   "metadata": {},
   "outputs": [],
   "source": [
    "dm = DataManager(cfg)\n",
    "dl = DataLabeler(cfg)"
   ]
  },
  {
   "cell_type": "code",
   "execution_count": 18,
   "metadata": {},
   "outputs": [],
   "source": [
    "shares = list(OmegaConf.to_container(OmegaConf.load(cfg.paths.shares_dict)).keys())"
   ]
  },
  {
   "cell_type": "code",
   "execution_count": 39,
   "metadata": {},
   "outputs": [
    {
     "name": "stdout",
     "output_type": "stream",
     "text": [
      "BBG000RJWGC4\n"
     ]
    }
   ],
   "source": [
    "# for i in range(len(shares)):\n",
    "#     sh = dm.load_share(shares[i])\n",
    "#     sh = sh.fill_nan(None)\n",
    "#     if any((sh.null_count().to_numpy() == 1)[0]):\n",
    "#         print(shares[i])\n",
    "#         break"
   ]
  },
  {
   "cell_type": "code",
   "execution_count": 4,
   "metadata": {},
   "outputs": [],
   "source": [
    "sh = dm.load_share('BBG004S68758')"
   ]
  },
  {
   "cell_type": "code",
   "execution_count": 5,
   "metadata": {},
   "outputs": [
    {
     "data": {
      "text/plain": [
       "1214"
      ]
     },
     "execution_count": 5,
     "metadata": {},
     "output_type": "execute_result"
    }
   ],
   "source": [
    "len(sh)"
   ]
  },
  {
   "cell_type": "code",
   "execution_count": 37,
   "metadata": {},
   "outputs": [],
   "source": [
    "sh, labels = dl.fit(sh)"
   ]
  },
  {
   "cell_type": "code",
   "execution_count": 38,
   "metadata": {},
   "outputs": [
    {
     "name": "stdout",
     "output_type": "stream",
     "text": [
      "1061 19\n"
     ]
    }
   ],
   "source": [
    "print(len(sh), len(labels[labels == 1]))"
   ]
  },
  {
   "cell_type": "code",
   "execution_count": 39,
   "metadata": {},
   "outputs": [],
   "source": [
    "sh = validate(sh)"
   ]
  },
  {
   "cell_type": "code",
   "execution_count": 40,
   "metadata": {},
   "outputs": [],
   "source": [
    "import matplotlib.pyplot as plt"
   ]
  },
  {
   "cell_type": "code",
   "execution_count": 56,
   "metadata": {},
   "outputs": [],
   "source": [
    "a = 0\n",
    "b = 66"
   ]
  },
  {
   "cell_type": "code",
   "execution_count": 57,
   "metadata": {},
   "outputs": [
    {
     "data": {
      "text/plain": [
       "(1719842114.0, 1719904634.0)"
      ]
     },
     "execution_count": 57,
     "metadata": {},
     "output_type": "execute_result"
    },
    {
     "data": {
      "image/png": "[encoded data removed]",
      "text/plain": [
       "<Figure size 640x480 with 1 Axes>"
      ]
     },
     "metadata": {},
     "output_type": "display_data"
    }
   ],
   "source": [
    "plt.plot(sh['time'].to_numpy(), sh['price_last'].to_numpy(), color='black')\n",
    "plt.scatter(sh['time'].to_numpy()[labels==1], sh['price_last'].to_numpy()[labels==1], color='r')\n",
    "plt.scatter(sh['time'].to_numpy()[labels==2], sh['price_last'].to_numpy()[labels==2], color='b')\n",
    "plt.xlim(sh['time'][a], sh['time'][b])"
   ]
  },
  {
   "cell_type": "code",
   "execution_count": 7,
   "metadata": {},
   "outputs": [],
   "source": [
    "sh = validate(sh)"
   ]
  },
  {
   "cell_type": "code",
   "execution_count": 8,
   "metadata": {},
   "outputs": [],
   "source": [
    "sh, labels = dl.fit(sh)"
   ]
  },
  {
   "cell_type": "code",
   "execution_count": 33,
   "metadata": {},
   "outputs": [],
   "source": [
    "time_column = sh.select(['time']).to_series()\n",
    "sh = sh.drop(['time'])"
   ]
  },
  {
   "cell_type": "code",
   "execution_count": 34,
   "metadata": {},
   "outputs": [
    {
     "data": {
      "text/html": [
       "<div><style>\n",
       ".dataframe > thead > tr,\n",
       ".dataframe > tbody > tr {\n",
       "  text-align: right;\n",
       "  white-space: pre-wrap;\n",
       "}\n",
       "</style>\n",
       "<small>shape: (1_133, 29)</small><table border=\"1\" class=\"dataframe\"><thead><tr><th>time</th><th>buyers_count</th><th>buyers_quantity</th><th>sellers_count</th><th>sellers_quantity</th><th>price_min</th><th>price_max</th><th>price_std</th><th>price_last</th><th>bids_min</th><th>bids_max</th><th>bids_std</th><th>bids_last</th><th>asks_min</th><th>asks_max</th><th>asks_std</th><th>asks_last</th><th>weighted_bid_min</th><th>weighted_bid_max</th><th>weighted_bid_std</th><th>weighted_bid_last</th><th>weighted_ask_min</th><th>weighted_ask_max</th><th>weighted_ask_std</th><th>weighted_ask_last</th><th>bid_to_ask_ratio_min</th><th>bid_to_ask_ratio_max</th><th>bid_to_ask_ratio_std</th><th>bid_to_ask_ratio_last</th></tr><tr><td>f64</td><td>f64</td><td>f64</td><td>f64</td><td>f64</td><td>f64</td><td>f64</td><td>f64</td><td>f64</td><td>f64</td><td>f64</td><td>f64</td><td>f64</td><td>f64</td><td>f64</td><td>f64</td><td>f64</td><td>f64</td><td>f64</td><td>f64</td><td>f64</td><td>f64</td><td>f64</td><td>f64</td><td>f64</td><td>f64</td><td>f64</td><td>f64</td><td>f64</td></tr></thead><tbody><tr><td>1.7198e9</td><td>1.0</td><td>1.0</td><td>0.0</td><td>0.0</td><td>3149.0</td><td>3149.0</td><td>0.0</td><td>3149.0</td><td>679.0</td><td>710.0</td><td>10.859507</td><td>685.0</td><td>425.0</td><td>520.0</td><td>26.089589</td><td>477.0</td><td>3146.25284</td><td>3146.41022</td><td>0.050172</td><td>3146.41022</td><td>3155.94444</td><td>3156.7602</td><td>0.170652</td><td>3155.94444</td><td>1.30829</td><td>1.61176</td><td>0.078893</td><td>1.43606</td></tr><tr><td>1.7198e9</td><td>2.0</td><td>8.0</td><td>3.0</td><td>8.0</td><td>3150.0</td><td>3153.0</td><td>1.35654</td><td>3150.0</td><td>402.0</td><td>700.0</td><td>121.064453</td><td>467.0</td><td>216.0</td><td>474.0</td><td>95.870642</td><td>274.0</td><td>3146.48487</td><td>3148.53856</td><td>0.769948</td><td>3147.74411</td><td>3155.12896</td><td>3157.10278</td><td>0.620493</td><td>3155.65328</td><td>0.93696</td><td>3.24074</td><td>0.669301</td><td>1.70438</td></tr><tr><td>1.7198e9</td><td>4.0</td><td>7.0</td><td>2.0</td><td>4.0</td><td>3153.0</td><td>3153.0</td><td>0.0</td><td>3153.0</td><td>349.0</td><td>1399.0</td><td>185.433977</td><td>349.0</td><td>267.0</td><td>1011.0</td><td>142.029105</td><td>1011.0</td><td>3148.13499</td><td>3151.21909</td><td>0.563688</td><td>3148.96991</td><td>3155.79426</td><td>3158.14859</td><td>0.458706</td><td>3155.79426</td><td>0.3452</td><td>4.71044</td><td>0.727325</td><td>0.3452</td></tr><tr><td>1.7198e9</td><td>1.0</td><td>1.0</td><td>2.0</td><td>5.0</td><td>3150.5</td><td>3153.0</td><td>0.808901</td><td>3150.5</td><td>412.0</td><td>504.0</td><td>32.418369</td><td>499.0</td><td>172.0</td><td>2368.0</td><td>625.171999</td><td>454.0</td><td>3147.58988</td><td>3148.43932</td><td>0.26107</td><td>3147.61723</td><td>3152.0644</td><td>3156.67401</td><td>1.606225</td><td>3156.67401</td><td>0.18159</td><td>2.78488</td><td>0.67557</td><td>1.09912</td></tr><tr><td>1.7198e9</td><td>0.0</td><td>0.0</td><td>2.0</td><td>8.0</td><td>3150.0</td><td>3150.0</td><td>0.0</td><td>3150.0</td><td>490.0</td><td>729.0</td><td>112.203007</td><td>495.0</td><td>284.0</td><td>516.0</td><td>47.711719</td><td>516.0</td><td>3146.44751</td><td>3147.63636</td><td>0.569952</td><td>3147.63131</td><td>3155.67782</td><td>3157.1596</td><td>0.325807</td><td>3156.87209</td><td>0.9593</td><td>1.74296</td><td>0.239929</td><td>0.9593</td></tr><tr><td>&hellip;</td><td>&hellip;</td><td>&hellip;</td><td>&hellip;</td><td>&hellip;</td><td>&hellip;</td><td>&hellip;</td><td>&hellip;</td><td>&hellip;</td><td>&hellip;</td><td>&hellip;</td><td>&hellip;</td><td>&hellip;</td><td>&hellip;</td><td>&hellip;</td><td>&hellip;</td><td>&hellip;</td><td>&hellip;</td><td>&hellip;</td><td>&hellip;</td><td>&hellip;</td><td>&hellip;</td><td>&hellip;</td><td>&hellip;</td><td>&hellip;</td><td>&hellip;</td><td>&hellip;</td><td>&hellip;</td><td>&hellip;</td></tr><tr><td>1.7201e9</td><td>1.0</td><td>5.0</td><td>1.0</td><td>21.0</td><td>3099.5</td><td>3099.5</td><td>0.0</td><td>3099.5</td><td>236.0</td><td>408.0</td><td>47.092221</td><td>236.0</td><td>416.0</td><td>935.0</td><td>135.520877</td><td>416.0</td><td>3093.13215</td><td>3096.63771</td><td>0.907405</td><td>3096.63771</td><td>3104.75817</td><td>3107.54971</td><td>0.811949</td><td>3106.28005</td><td>0.29305</td><td>0.98077</td><td>0.149919</td><td>0.56731</td></tr><tr><td>1.7201e9</td><td>8.0</td><td>107.0</td><td>3.0</td><td>20.0</td><td>3105.0</td><td>3106.5</td><td>0.506248</td><td>3106.5</td><td>165.0</td><td>407.0</td><td>76.112732</td><td>175.0</td><td>433.0</td><td>1589.0</td><td>281.798002</td><td>497.0</td><td>3096.86241</td><td>3100.18485</td><td>1.002867</td><td>3099.27429</td><td>3108.68554</td><td>3110.48929</td><td>0.396402</td><td>3109.58451</td><td>0.15464</td><td>0.64103</td><td>0.102929</td><td>0.35211</td></tr><tr><td>1.7201e9</td><td>1.0</td><td>1.0</td><td>0.0</td><td>0.0</td><td>3103.5</td><td>3103.5</td><td>0.0</td><td>3103.5</td><td>149.0</td><td>242.0</td><td>15.737232</td><td>175.0</td><td>451.0</td><td>1061.0</td><td>85.84658</td><td>602.0</td><td>3098.2686</td><td>3102.03429</td><td>0.919394</td><td>3102.03429</td><td>3108.59839</td><td>3111.91528</td><td>0.641131</td><td>3111.91528</td><td>0.17952</td><td>0.49897</td><td>0.050322</td><td>0.2907</td></tr><tr><td>1.7201e9</td><td>1.0</td><td>1.0</td><td>1.0</td><td>9.0</td><td>3105.0</td><td>3108.5</td><td>1.468558</td><td>3105.0</td><td>185.0</td><td>344.0</td><td>52.617776</td><td>324.0</td><td>433.0</td><td>1114.0</td><td>243.08599</td><td>1091.0</td><td>3098.07864</td><td>3101.93147</td><td>1.143356</td><td>3098.18673</td><td>3108.2536</td><td>3111.60661</td><td>0.723513</td><td>3109.73236</td><td>0.17684</td><td>0.74827</td><td>0.194176</td><td>0.29698</td></tr><tr><td>1.7201e9</td><td>1.0</td><td>5.0</td><td>3.0</td><td>7.0</td><td>3103.5</td><td>3103.5</td><td>0.0</td><td>3103.5</td><td>186.0</td><td>309.0</td><td>48.945868</td><td>192.0</td><td>971.0</td><td>1081.0</td><td>23.958694</td><td>1036.0</td><td>3097.87418</td><td>3101.2861</td><td>1.252377</td><td>3101.05469</td><td>3108.81434</td><td>3110.06095</td><td>0.27579</td><td>3109.70705</td><td>0.17481</td><td>0.31129</td><td>0.049023</td><td>0.18533</td></tr></tbody></table></div>"
      ],
      "text/plain": [
       "shape: (1_133, 29)\n",
       "┌──────────┬───────────┬───────────┬───────────┬───┬───────────┬───────────┬───────────┬───────────┐\n",
       "│ time     ┆ buyers_co ┆ buyers_qu ┆ sellers_c ┆ … ┆ bid_to_as ┆ bid_to_as ┆ bid_to_as ┆ bid_to_as │\n",
       "│ ---      ┆ unt       ┆ antity    ┆ ount      ┆   ┆ k_ratio_m ┆ k_ratio_m ┆ k_ratio_s ┆ k_ratio_l │\n",
       "│ f64      ┆ ---       ┆ ---       ┆ ---       ┆   ┆ in        ┆ ax        ┆ td        ┆ ast       │\n",
       "│          ┆ f64       ┆ f64       ┆ f64       ┆   ┆ ---       ┆ ---       ┆ ---       ┆ ---       │\n",
       "│          ┆           ┆           ┆           ┆   ┆ f64       ┆ f64       ┆ f64       ┆ f64       │\n",
       "╞══════════╪═══════════╪═══════════╪═══════════╪═══╪═══════════╪═══════════╪═══════════╪═══════════╡\n",
       "│ 1.7198e9 ┆ 1.0       ┆ 1.0       ┆ 0.0       ┆ … ┆ 1.30829   ┆ 1.61176   ┆ 0.078893  ┆ 1.43606   │\n",
       "│ 1.7198e9 ┆ 2.0       ┆ 8.0       ┆ 3.0       ┆ … ┆ 0.93696   ┆ 3.24074   ┆ 0.669301  ┆ 1.70438   │\n",
       "│ 1.7198e9 ┆ 4.0       ┆ 7.0       ┆ 2.0       ┆ … ┆ 0.3452    ┆ 4.71044   ┆ 0.727325  ┆ 0.3452    │\n",
       "│ 1.7198e9 ┆ 1.0       ┆ 1.0       ┆ 2.0       ┆ … ┆ 0.18159   ┆ 2.78488   ┆ 0.67557   ┆ 1.09912   │\n",
       "│ 1.7198e9 ┆ 0.0       ┆ 0.0       ┆ 2.0       ┆ … ┆ 0.9593    ┆ 1.74296   ┆ 0.239929  ┆ 0.9593    │\n",
       "│ …        ┆ …         ┆ …         ┆ …         ┆ … ┆ …         ┆ …         ┆ …         ┆ …         │\n",
       "│ 1.7201e9 ┆ 1.0       ┆ 5.0       ┆ 1.0       ┆ … ┆ 0.29305   ┆ 0.98077   ┆ 0.149919  ┆ 0.56731   │\n",
       "│ 1.7201e9 ┆ 8.0       ┆ 107.0     ┆ 3.0       ┆ … ┆ 0.15464   ┆ 0.64103   ┆ 0.102929  ┆ 0.35211   │\n",
       "│ 1.7201e9 ┆ 1.0       ┆ 1.0       ┆ 0.0       ┆ … ┆ 0.17952   ┆ 0.49897   ┆ 0.050322  ┆ 0.2907    │\n",
       "│ 1.7201e9 ┆ 1.0       ┆ 1.0       ┆ 1.0       ┆ … ┆ 0.17684   ┆ 0.74827   ┆ 0.194176  ┆ 0.29698   │\n",
       "│ 1.7201e9 ┆ 1.0       ┆ 5.0       ┆ 3.0       ┆ … ┆ 0.17481   ┆ 0.31129   ┆ 0.049023  ┆ 0.18533   │\n",
       "└──────────┴───────────┴───────────┴───────────┴───┴───────────┴───────────┴───────────┴───────────┘"
      ]
     },
     "execution_count": 34,
     "metadata": {},
     "output_type": "execute_result"
    }
   ],
   "source": [
    "sh.insert_column(0, time_column)"
   ]
  },
  {
   "cell_type": "code",
   "execution_count": 22,
   "metadata": {},
   "outputs": [
    {
     "data": {
      "text/html": [
       "<div><style>\n",
       ".dataframe > thead > tr,\n",
       ".dataframe > tbody > tr {\n",
       "  text-align: right;\n",
       "  white-space: pre-wrap;\n",
       "}\n",
       "</style>\n",
       "<small>shape: (1_133, 29)</small><table border=\"1\" class=\"dataframe\"><thead><tr><th>time</th><th>buyers_count</th><th>buyers_quantity</th><th>sellers_count</th><th>sellers_quantity</th><th>price_min</th><th>price_max</th><th>price_std</th><th>price_last</th><th>bids_min</th><th>bids_max</th><th>bids_std</th><th>bids_last</th><th>asks_min</th><th>asks_max</th><th>asks_std</th><th>asks_last</th><th>weighted_bid_min</th><th>weighted_bid_max</th><th>weighted_bid_std</th><th>weighted_bid_last</th><th>weighted_ask_min</th><th>weighted_ask_max</th><th>weighted_ask_std</th><th>weighted_ask_last</th><th>bid_to_ask_ratio_min</th><th>bid_to_ask_ratio_max</th><th>bid_to_ask_ratio_std</th><th>bid_to_ask_ratio_last</th></tr><tr><td>f64</td><td>f64</td><td>f64</td><td>f64</td><td>f64</td><td>f64</td><td>f64</td><td>f64</td><td>f64</td><td>f64</td><td>f64</td><td>f64</td><td>f64</td><td>f64</td><td>f64</td><td>f64</td><td>f64</td><td>f64</td><td>f64</td><td>f64</td><td>f64</td><td>f64</td><td>f64</td><td>f64</td><td>f64</td><td>f64</td><td>f64</td><td>f64</td><td>f64</td></tr></thead><tbody><tr><td>1.7198e9</td><td>1.0</td><td>1.0</td><td>0.0</td><td>0.0</td><td>3149.0</td><td>3149.0</td><td>0.0</td><td>3149.0</td><td>679.0</td><td>710.0</td><td>10.859507</td><td>685.0</td><td>425.0</td><td>520.0</td><td>26.089589</td><td>477.0</td><td>3146.25284</td><td>3146.41022</td><td>0.050172</td><td>3146.41022</td><td>3155.94444</td><td>3156.7602</td><td>0.170652</td><td>3155.94444</td><td>1.30829</td><td>1.61176</td><td>0.078893</td><td>1.43606</td></tr><tr><td>1.7198e9</td><td>2.0</td><td>8.0</td><td>3.0</td><td>8.0</td><td>3150.0</td><td>3153.0</td><td>1.35654</td><td>3150.0</td><td>402.0</td><td>700.0</td><td>121.064453</td><td>467.0</td><td>216.0</td><td>474.0</td><td>95.870642</td><td>274.0</td><td>3146.48487</td><td>3148.53856</td><td>0.769948</td><td>3147.74411</td><td>3155.12896</td><td>3157.10278</td><td>0.620493</td><td>3155.65328</td><td>0.93696</td><td>3.24074</td><td>0.669301</td><td>1.70438</td></tr><tr><td>1.7198e9</td><td>4.0</td><td>7.0</td><td>2.0</td><td>4.0</td><td>3153.0</td><td>3153.0</td><td>0.0</td><td>3153.0</td><td>349.0</td><td>1399.0</td><td>185.433977</td><td>349.0</td><td>267.0</td><td>1011.0</td><td>142.029105</td><td>1011.0</td><td>3148.13499</td><td>3151.21909</td><td>0.563688</td><td>3148.96991</td><td>3155.79426</td><td>3158.14859</td><td>0.458706</td><td>3155.79426</td><td>0.3452</td><td>4.71044</td><td>0.727325</td><td>0.3452</td></tr><tr><td>1.7198e9</td><td>1.0</td><td>1.0</td><td>2.0</td><td>5.0</td><td>3150.5</td><td>3153.0</td><td>0.808901</td><td>3150.5</td><td>412.0</td><td>504.0</td><td>32.418369</td><td>499.0</td><td>172.0</td><td>2368.0</td><td>625.171999</td><td>454.0</td><td>3147.58988</td><td>3148.43932</td><td>0.26107</td><td>3147.61723</td><td>3152.0644</td><td>3156.67401</td><td>1.606225</td><td>3156.67401</td><td>0.18159</td><td>2.78488</td><td>0.67557</td><td>1.09912</td></tr><tr><td>1.7198e9</td><td>0.0</td><td>0.0</td><td>2.0</td><td>8.0</td><td>3150.0</td><td>3150.0</td><td>0.0</td><td>3150.0</td><td>490.0</td><td>729.0</td><td>112.203007</td><td>495.0</td><td>284.0</td><td>516.0</td><td>47.711719</td><td>516.0</td><td>3146.44751</td><td>3147.63636</td><td>0.569952</td><td>3147.63131</td><td>3155.67782</td><td>3157.1596</td><td>0.325807</td><td>3156.87209</td><td>0.9593</td><td>1.74296</td><td>0.239929</td><td>0.9593</td></tr><tr><td>&hellip;</td><td>&hellip;</td><td>&hellip;</td><td>&hellip;</td><td>&hellip;</td><td>&hellip;</td><td>&hellip;</td><td>&hellip;</td><td>&hellip;</td><td>&hellip;</td><td>&hellip;</td><td>&hellip;</td><td>&hellip;</td><td>&hellip;</td><td>&hellip;</td><td>&hellip;</td><td>&hellip;</td><td>&hellip;</td><td>&hellip;</td><td>&hellip;</td><td>&hellip;</td><td>&hellip;</td><td>&hellip;</td><td>&hellip;</td><td>&hellip;</td><td>&hellip;</td><td>&hellip;</td><td>&hellip;</td><td>&hellip;</td></tr><tr><td>1.7201e9</td><td>1.0</td><td>5.0</td><td>1.0</td><td>21.0</td><td>3099.5</td><td>3099.5</td><td>0.0</td><td>3099.5</td><td>236.0</td><td>408.0</td><td>47.092221</td><td>236.0</td><td>416.0</td><td>935.0</td><td>135.520877</td><td>416.0</td><td>3093.13215</td><td>3096.63771</td><td>0.907405</td><td>3096.63771</td><td>3104.75817</td><td>3107.54971</td><td>0.811949</td><td>3106.28005</td><td>0.29305</td><td>0.98077</td><td>0.149919</td><td>0.56731</td></tr><tr><td>1.7201e9</td><td>8.0</td><td>107.0</td><td>3.0</td><td>20.0</td><td>3105.0</td><td>3106.5</td><td>0.506248</td><td>3106.5</td><td>165.0</td><td>407.0</td><td>76.112732</td><td>175.0</td><td>433.0</td><td>1589.0</td><td>281.798002</td><td>497.0</td><td>3096.86241</td><td>3100.18485</td><td>1.002867</td><td>3099.27429</td><td>3108.68554</td><td>3110.48929</td><td>0.396402</td><td>3109.58451</td><td>0.15464</td><td>0.64103</td><td>0.102929</td><td>0.35211</td></tr><tr><td>1.7201e9</td><td>1.0</td><td>1.0</td><td>0.0</td><td>0.0</td><td>3103.5</td><td>3103.5</td><td>0.0</td><td>3103.5</td><td>149.0</td><td>242.0</td><td>15.737232</td><td>175.0</td><td>451.0</td><td>1061.0</td><td>85.84658</td><td>602.0</td><td>3098.2686</td><td>3102.03429</td><td>0.919394</td><td>3102.03429</td><td>3108.59839</td><td>3111.91528</td><td>0.641131</td><td>3111.91528</td><td>0.17952</td><td>0.49897</td><td>0.050322</td><td>0.2907</td></tr><tr><td>1.7201e9</td><td>1.0</td><td>1.0</td><td>1.0</td><td>9.0</td><td>3105.0</td><td>3108.5</td><td>1.468558</td><td>3105.0</td><td>185.0</td><td>344.0</td><td>52.617776</td><td>324.0</td><td>433.0</td><td>1114.0</td><td>243.08599</td><td>1091.0</td><td>3098.07864</td><td>3101.93147</td><td>1.143356</td><td>3098.18673</td><td>3108.2536</td><td>3111.60661</td><td>0.723513</td><td>3109.73236</td><td>0.17684</td><td>0.74827</td><td>0.194176</td><td>0.29698</td></tr><tr><td>1.7201e9</td><td>1.0</td><td>5.0</td><td>3.0</td><td>7.0</td><td>3103.5</td><td>3103.5</td><td>0.0</td><td>3103.5</td><td>186.0</td><td>309.0</td><td>48.945868</td><td>192.0</td><td>971.0</td><td>1081.0</td><td>23.958694</td><td>1036.0</td><td>3097.87418</td><td>3101.2861</td><td>1.252377</td><td>3101.05469</td><td>3108.81434</td><td>3110.06095</td><td>0.27579</td><td>3109.70705</td><td>0.17481</td><td>0.31129</td><td>0.049023</td><td>0.18533</td></tr></tbody></table></div>"
      ],
      "text/plain": [
       "shape: (1_133, 29)\n",
       "┌──────────┬───────────┬───────────┬───────────┬───┬───────────┬───────────┬───────────┬───────────┐\n",
       "│ time     ┆ buyers_co ┆ buyers_qu ┆ sellers_c ┆ … ┆ bid_to_as ┆ bid_to_as ┆ bid_to_as ┆ bid_to_as │\n",
       "│ ---      ┆ unt       ┆ antity    ┆ ount      ┆   ┆ k_ratio_m ┆ k_ratio_m ┆ k_ratio_s ┆ k_ratio_l │\n",
       "│ f64      ┆ ---       ┆ ---       ┆ ---       ┆   ┆ in        ┆ ax        ┆ td        ┆ ast       │\n",
       "│          ┆ f64       ┆ f64       ┆ f64       ┆   ┆ ---       ┆ ---       ┆ ---       ┆ ---       │\n",
       "│          ┆           ┆           ┆           ┆   ┆ f64       ┆ f64       ┆ f64       ┆ f64       │\n",
       "╞══════════╪═══════════╪═══════════╪═══════════╪═══╪═══════════╪═══════════╪═══════════╪═══════════╡\n",
       "│ 1.7198e9 ┆ 1.0       ┆ 1.0       ┆ 0.0       ┆ … ┆ 1.30829   ┆ 1.61176   ┆ 0.078893  ┆ 1.43606   │\n",
       "│ 1.7198e9 ┆ 2.0       ┆ 8.0       ┆ 3.0       ┆ … ┆ 0.93696   ┆ 3.24074   ┆ 0.669301  ┆ 1.70438   │\n",
       "│ 1.7198e9 ┆ 4.0       ┆ 7.0       ┆ 2.0       ┆ … ┆ 0.3452    ┆ 4.71044   ┆ 0.727325  ┆ 0.3452    │\n",
       "│ 1.7198e9 ┆ 1.0       ┆ 1.0       ┆ 2.0       ┆ … ┆ 0.18159   ┆ 2.78488   ┆ 0.67557   ┆ 1.09912   │\n",
       "│ 1.7198e9 ┆ 0.0       ┆ 0.0       ┆ 2.0       ┆ … ┆ 0.9593    ┆ 1.74296   ┆ 0.239929  ┆ 0.9593    │\n",
       "│ …        ┆ …         ┆ …         ┆ …         ┆ … ┆ …         ┆ …         ┆ …         ┆ …         │\n",
       "│ 1.7201e9 ┆ 1.0       ┆ 5.0       ┆ 1.0       ┆ … ┆ 0.29305   ┆ 0.98077   ┆ 0.149919  ┆ 0.56731   │\n",
       "│ 1.7201e9 ┆ 8.0       ┆ 107.0     ┆ 3.0       ┆ … ┆ 0.15464   ┆ 0.64103   ┆ 0.102929  ┆ 0.35211   │\n",
       "│ 1.7201e9 ┆ 1.0       ┆ 1.0       ┆ 0.0       ┆ … ┆ 0.17952   ┆ 0.49897   ┆ 0.050322  ┆ 0.2907    │\n",
       "│ 1.7201e9 ┆ 1.0       ┆ 1.0       ┆ 1.0       ┆ … ┆ 0.17684   ┆ 0.74827   ┆ 0.194176  ┆ 0.29698   │\n",
       "│ 1.7201e9 ┆ 1.0       ┆ 5.0       ┆ 3.0       ┆ … ┆ 0.17481   ┆ 0.31129   ┆ 0.049023  ┆ 0.18533   │\n",
       "└──────────┴───────────┴───────────┴───────────┴───┴───────────┴───────────┴───────────┴───────────┘"
      ]
     },
     "execution_count": 22,
     "metadata": {},
     "output_type": "execute_result"
    }
   ],
   "source": [
    "sh"
   ]
  },
  {
   "cell_type": "code",
   "execution_count": 32,
   "metadata": {},
   "outputs": [
    {
     "data": {
      "text/html": [
       "<div><style>\n",
       ".dataframe > thead > tr,\n",
       ".dataframe > tbody > tr {\n",
       "  text-align: right;\n",
       "  white-space: pre-wrap;\n",
       "}\n",
       "</style>\n",
       "<small>shape: (1_133, 1)</small><table border=\"1\" class=\"dataframe\"><thead><tr><th>time</th></tr><tr><td>f64</td></tr></thead><tbody><tr><td>1.7198e9</td></tr><tr><td>1.7198e9</td></tr><tr><td>1.7198e9</td></tr><tr><td>1.7198e9</td></tr><tr><td>1.7198e9</td></tr><tr><td>&hellip;</td></tr><tr><td>1.7201e9</td></tr><tr><td>1.7201e9</td></tr><tr><td>1.7201e9</td></tr><tr><td>1.7201e9</td></tr><tr><td>1.7201e9</td></tr></tbody></table></div>"
      ],
      "text/plain": [
       "shape: (1_133, 1)\n",
       "┌──────────┐\n",
       "│ time     │\n",
       "│ ---      │\n",
       "│ f64      │\n",
       "╞══════════╡\n",
       "│ 1.7198e9 │\n",
       "│ 1.7198e9 │\n",
       "│ 1.7198e9 │\n",
       "│ 1.7198e9 │\n",
       "│ 1.7198e9 │\n",
       "│ …        │\n",
       "│ 1.7201e9 │\n",
       "│ 1.7201e9 │\n",
       "│ 1.7201e9 │\n",
       "│ 1.7201e9 │\n",
       "│ 1.7201e9 │\n",
       "└──────────┘"
      ]
     },
     "execution_count": 32,
     "metadata": {},
     "output_type": "execute_result"
    }
   ],
   "source": [
    "time_column"
   ]
  },
  {
   "cell_type": "code",
   "execution_count": 38,
   "metadata": {},
   "outputs": [
    {
     "data": {
      "text/html": [
       "<div><style>\n",
       ".dataframe > thead > tr,\n",
       ".dataframe > tbody > tr {\n",
       "  text-align: right;\n",
       "  white-space: pre-wrap;\n",
       "}\n",
       "</style>\n",
       "<small>shape: (1_133, 28)</small><table border=\"1\" class=\"dataframe\"><thead><tr><th>buyers_count</th><th>buyers_quantity</th><th>sellers_count</th><th>sellers_quantity</th><th>price_min</th><th>price_max</th><th>price_std</th><th>price_last</th><th>bids_min</th><th>bids_max</th><th>bids_std</th><th>bids_last</th><th>asks_min</th><th>asks_max</th><th>asks_std</th><th>asks_last</th><th>weighted_bid_min</th><th>weighted_bid_max</th><th>weighted_bid_std</th><th>weighted_bid_last</th><th>weighted_ask_min</th><th>weighted_ask_max</th><th>weighted_ask_std</th><th>weighted_ask_last</th><th>bid_to_ask_ratio_min</th><th>bid_to_ask_ratio_max</th><th>bid_to_ask_ratio_std</th><th>bid_to_ask_ratio_last</th></tr><tr><td>f64</td><td>f64</td><td>f64</td><td>f64</td><td>f64</td><td>f64</td><td>f64</td><td>f64</td><td>f64</td><td>f64</td><td>f64</td><td>f64</td><td>f64</td><td>f64</td><td>f64</td><td>f64</td><td>f64</td><td>f64</td><td>f64</td><td>f64</td><td>f64</td><td>f64</td><td>f64</td><td>f64</td><td>f64</td><td>f64</td><td>f64</td><td>f64</td></tr></thead><tbody><tr><td>1.0</td><td>1.0</td><td>0.0</td><td>0.0</td><td>3149.0</td><td>3149.0</td><td>0.0</td><td>3149.0</td><td>679.0</td><td>710.0</td><td>10.859507</td><td>685.0</td><td>425.0</td><td>520.0</td><td>26.089589</td><td>477.0</td><td>3146.25284</td><td>3146.41022</td><td>0.050172</td><td>3146.41022</td><td>3155.94444</td><td>3156.7602</td><td>0.170652</td><td>3155.94444</td><td>1.30829</td><td>1.61176</td><td>0.078893</td><td>1.43606</td></tr><tr><td>2.0</td><td>8.0</td><td>3.0</td><td>8.0</td><td>3150.0</td><td>3153.0</td><td>1.35654</td><td>3150.0</td><td>402.0</td><td>700.0</td><td>121.064453</td><td>467.0</td><td>216.0</td><td>474.0</td><td>95.870642</td><td>274.0</td><td>3146.48487</td><td>3148.53856</td><td>0.769948</td><td>3147.74411</td><td>3155.12896</td><td>3157.10278</td><td>0.620493</td><td>3155.65328</td><td>0.93696</td><td>3.24074</td><td>0.669301</td><td>1.70438</td></tr><tr><td>4.0</td><td>7.0</td><td>2.0</td><td>4.0</td><td>3153.0</td><td>3153.0</td><td>0.0</td><td>3153.0</td><td>349.0</td><td>1399.0</td><td>185.433977</td><td>349.0</td><td>267.0</td><td>1011.0</td><td>142.029105</td><td>1011.0</td><td>3148.13499</td><td>3151.21909</td><td>0.563688</td><td>3148.96991</td><td>3155.79426</td><td>3158.14859</td><td>0.458706</td><td>3155.79426</td><td>0.3452</td><td>4.71044</td><td>0.727325</td><td>0.3452</td></tr><tr><td>1.0</td><td>1.0</td><td>2.0</td><td>5.0</td><td>3150.5</td><td>3153.0</td><td>0.808901</td><td>3150.5</td><td>412.0</td><td>504.0</td><td>32.418369</td><td>499.0</td><td>172.0</td><td>2368.0</td><td>625.171999</td><td>454.0</td><td>3147.58988</td><td>3148.43932</td><td>0.26107</td><td>3147.61723</td><td>3152.0644</td><td>3156.67401</td><td>1.606225</td><td>3156.67401</td><td>0.18159</td><td>2.78488</td><td>0.67557</td><td>1.09912</td></tr><tr><td>0.0</td><td>0.0</td><td>2.0</td><td>8.0</td><td>3150.0</td><td>3150.0</td><td>0.0</td><td>3150.0</td><td>490.0</td><td>729.0</td><td>112.203007</td><td>495.0</td><td>284.0</td><td>516.0</td><td>47.711719</td><td>516.0</td><td>3146.44751</td><td>3147.63636</td><td>0.569952</td><td>3147.63131</td><td>3155.67782</td><td>3157.1596</td><td>0.325807</td><td>3156.87209</td><td>0.9593</td><td>1.74296</td><td>0.239929</td><td>0.9593</td></tr><tr><td>&hellip;</td><td>&hellip;</td><td>&hellip;</td><td>&hellip;</td><td>&hellip;</td><td>&hellip;</td><td>&hellip;</td><td>&hellip;</td><td>&hellip;</td><td>&hellip;</td><td>&hellip;</td><td>&hellip;</td><td>&hellip;</td><td>&hellip;</td><td>&hellip;</td><td>&hellip;</td><td>&hellip;</td><td>&hellip;</td><td>&hellip;</td><td>&hellip;</td><td>&hellip;</td><td>&hellip;</td><td>&hellip;</td><td>&hellip;</td><td>&hellip;</td><td>&hellip;</td><td>&hellip;</td><td>&hellip;</td></tr><tr><td>1.0</td><td>5.0</td><td>1.0</td><td>21.0</td><td>3099.5</td><td>3099.5</td><td>0.0</td><td>3099.5</td><td>236.0</td><td>408.0</td><td>47.092221</td><td>236.0</td><td>416.0</td><td>935.0</td><td>135.520877</td><td>416.0</td><td>3093.13215</td><td>3096.63771</td><td>0.907405</td><td>3096.63771</td><td>3104.75817</td><td>3107.54971</td><td>0.811949</td><td>3106.28005</td><td>0.29305</td><td>0.98077</td><td>0.149919</td><td>0.56731</td></tr><tr><td>8.0</td><td>107.0</td><td>3.0</td><td>20.0</td><td>3105.0</td><td>3106.5</td><td>0.506248</td><td>3106.5</td><td>165.0</td><td>407.0</td><td>76.112732</td><td>175.0</td><td>433.0</td><td>1589.0</td><td>281.798002</td><td>497.0</td><td>3096.86241</td><td>3100.18485</td><td>1.002867</td><td>3099.27429</td><td>3108.68554</td><td>3110.48929</td><td>0.396402</td><td>3109.58451</td><td>0.15464</td><td>0.64103</td><td>0.102929</td><td>0.35211</td></tr><tr><td>1.0</td><td>1.0</td><td>0.0</td><td>0.0</td><td>3103.5</td><td>3103.5</td><td>0.0</td><td>3103.5</td><td>149.0</td><td>242.0</td><td>15.737232</td><td>175.0</td><td>451.0</td><td>1061.0</td><td>85.84658</td><td>602.0</td><td>3098.2686</td><td>3102.03429</td><td>0.919394</td><td>3102.03429</td><td>3108.59839</td><td>3111.91528</td><td>0.641131</td><td>3111.91528</td><td>0.17952</td><td>0.49897</td><td>0.050322</td><td>0.2907</td></tr><tr><td>1.0</td><td>1.0</td><td>1.0</td><td>9.0</td><td>3105.0</td><td>3108.5</td><td>1.468558</td><td>3105.0</td><td>185.0</td><td>344.0</td><td>52.617776</td><td>324.0</td><td>433.0</td><td>1114.0</td><td>243.08599</td><td>1091.0</td><td>3098.07864</td><td>3101.93147</td><td>1.143356</td><td>3098.18673</td><td>3108.2536</td><td>3111.60661</td><td>0.723513</td><td>3109.73236</td><td>0.17684</td><td>0.74827</td><td>0.194176</td><td>0.29698</td></tr><tr><td>1.0</td><td>5.0</td><td>3.0</td><td>7.0</td><td>3103.5</td><td>3103.5</td><td>0.0</td><td>3103.5</td><td>186.0</td><td>309.0</td><td>48.945868</td><td>192.0</td><td>971.0</td><td>1081.0</td><td>23.958694</td><td>1036.0</td><td>3097.87418</td><td>3101.2861</td><td>1.252377</td><td>3101.05469</td><td>3108.81434</td><td>3110.06095</td><td>0.27579</td><td>3109.70705</td><td>0.17481</td><td>0.31129</td><td>0.049023</td><td>0.18533</td></tr></tbody></table></div>"
      ],
      "text/plain": [
       "shape: (1_133, 28)\n",
       "┌───────────┬───────────┬───────────┬───────────┬───┬───────────┬───────────┬───────────┬──────────┐\n",
       "│ buyers_co ┆ buyers_qu ┆ sellers_c ┆ sellers_q ┆ … ┆ bid_to_as ┆ bid_to_as ┆ bid_to_as ┆ bid_to_a │\n",
       "│ unt       ┆ antity    ┆ ount      ┆ uantity   ┆   ┆ k_ratio_m ┆ k_ratio_m ┆ k_ratio_s ┆ sk_ratio │\n",
       "│ ---       ┆ ---       ┆ ---       ┆ ---       ┆   ┆ in        ┆ ax        ┆ td        ┆ _last    │\n",
       "│ f64       ┆ f64       ┆ f64       ┆ f64       ┆   ┆ ---       ┆ ---       ┆ ---       ┆ ---      │\n",
       "│           ┆           ┆           ┆           ┆   ┆ f64       ┆ f64       ┆ f64       ┆ f64      │\n",
       "╞═══════════╪═══════════╪═══════════╪═══════════╪═══╪═══════════╪═══════════╪═══════════╪══════════╡\n",
       "│ 1.0       ┆ 1.0       ┆ 0.0       ┆ 0.0       ┆ … ┆ 1.30829   ┆ 1.61176   ┆ 0.078893  ┆ 1.43606  │\n",
       "│ 2.0       ┆ 8.0       ┆ 3.0       ┆ 8.0       ┆ … ┆ 0.93696   ┆ 3.24074   ┆ 0.669301  ┆ 1.70438  │\n",
       "│ 4.0       ┆ 7.0       ┆ 2.0       ┆ 4.0       ┆ … ┆ 0.3452    ┆ 4.71044   ┆ 0.727325  ┆ 0.3452   │\n",
       "│ 1.0       ┆ 1.0       ┆ 2.0       ┆ 5.0       ┆ … ┆ 0.18159   ┆ 2.78488   ┆ 0.67557   ┆ 1.09912  │\n",
       "│ 0.0       ┆ 0.0       ┆ 2.0       ┆ 8.0       ┆ … ┆ 0.9593    ┆ 1.74296   ┆ 0.239929  ┆ 0.9593   │\n",
       "│ …         ┆ …         ┆ …         ┆ …         ┆ … ┆ …         ┆ …         ┆ …         ┆ …        │\n",
       "│ 1.0       ┆ 5.0       ┆ 1.0       ┆ 21.0      ┆ … ┆ 0.29305   ┆ 0.98077   ┆ 0.149919  ┆ 0.56731  │\n",
       "│ 8.0       ┆ 107.0     ┆ 3.0       ┆ 20.0      ┆ … ┆ 0.15464   ┆ 0.64103   ┆ 0.102929  ┆ 0.35211  │\n",
       "│ 1.0       ┆ 1.0       ┆ 0.0       ┆ 0.0       ┆ … ┆ 0.17952   ┆ 0.49897   ┆ 0.050322  ┆ 0.2907   │\n",
       "│ 1.0       ┆ 1.0       ┆ 1.0       ┆ 9.0       ┆ … ┆ 0.17684   ┆ 0.74827   ┆ 0.194176  ┆ 0.29698  │\n",
       "│ 1.0       ┆ 5.0       ┆ 3.0       ┆ 7.0       ┆ … ┆ 0.17481   ┆ 0.31129   ┆ 0.049023  ┆ 0.18533  │\n",
       "└───────────┴───────────┴───────────┴───────────┴───┴───────────┴───────────┴───────────┴──────────┘"
      ]
     },
     "execution_count": 38,
     "metadata": {},
     "output_type": "execute_result"
    }
   ],
   "source": [
    "sh.drop('time')"
   ]
  },
  {
   "cell_type": "code",
   "execution_count": 37,
   "metadata": {},
   "outputs": [
    {
     "data": {
      "text/html": [
       "<div><style>\n",
       ".dataframe > thead > tr,\n",
       ".dataframe > tbody > tr {\n",
       "  text-align: right;\n",
       "  white-space: pre-wrap;\n",
       "}\n",
       "</style>\n",
       "<small>shape: (1_133, 29)</small><table border=\"1\" class=\"dataframe\"><thead><tr><th>time</th><th>buyers_count</th><th>buyers_quantity</th><th>sellers_count</th><th>sellers_quantity</th><th>price_min</th><th>price_max</th><th>price_std</th><th>price_last</th><th>bids_min</th><th>bids_max</th><th>bids_std</th><th>bids_last</th><th>asks_min</th><th>asks_max</th><th>asks_std</th><th>asks_last</th><th>weighted_bid_min</th><th>weighted_bid_max</th><th>weighted_bid_std</th><th>weighted_bid_last</th><th>weighted_ask_min</th><th>weighted_ask_max</th><th>weighted_ask_std</th><th>weighted_ask_last</th><th>bid_to_ask_ratio_min</th><th>bid_to_ask_ratio_max</th><th>bid_to_ask_ratio_std</th><th>bid_to_ask_ratio_last</th></tr><tr><td>f64</td><td>f64</td><td>f64</td><td>f64</td><td>f64</td><td>f64</td><td>f64</td><td>f64</td><td>f64</td><td>f64</td><td>f64</td><td>f64</td><td>f64</td><td>f64</td><td>f64</td><td>f64</td><td>f64</td><td>f64</td><td>f64</td><td>f64</td><td>f64</td><td>f64</td><td>f64</td><td>f64</td><td>f64</td><td>f64</td><td>f64</td><td>f64</td><td>f64</td></tr></thead><tbody><tr><td>1.7198e9</td><td>1.0</td><td>1.0</td><td>0.0</td><td>0.0</td><td>3149.0</td><td>3149.0</td><td>0.0</td><td>3149.0</td><td>679.0</td><td>710.0</td><td>10.859507</td><td>685.0</td><td>425.0</td><td>520.0</td><td>26.089589</td><td>477.0</td><td>3146.25284</td><td>3146.41022</td><td>0.050172</td><td>3146.41022</td><td>3155.94444</td><td>3156.7602</td><td>0.170652</td><td>3155.94444</td><td>1.30829</td><td>1.61176</td><td>0.078893</td><td>1.43606</td></tr><tr><td>1.7198e9</td><td>2.0</td><td>8.0</td><td>3.0</td><td>8.0</td><td>3150.0</td><td>3153.0</td><td>1.35654</td><td>3150.0</td><td>402.0</td><td>700.0</td><td>121.064453</td><td>467.0</td><td>216.0</td><td>474.0</td><td>95.870642</td><td>274.0</td><td>3146.48487</td><td>3148.53856</td><td>0.769948</td><td>3147.74411</td><td>3155.12896</td><td>3157.10278</td><td>0.620493</td><td>3155.65328</td><td>0.93696</td><td>3.24074</td><td>0.669301</td><td>1.70438</td></tr><tr><td>1.7198e9</td><td>4.0</td><td>7.0</td><td>2.0</td><td>4.0</td><td>3153.0</td><td>3153.0</td><td>0.0</td><td>3153.0</td><td>349.0</td><td>1399.0</td><td>185.433977</td><td>349.0</td><td>267.0</td><td>1011.0</td><td>142.029105</td><td>1011.0</td><td>3148.13499</td><td>3151.21909</td><td>0.563688</td><td>3148.96991</td><td>3155.79426</td><td>3158.14859</td><td>0.458706</td><td>3155.79426</td><td>0.3452</td><td>4.71044</td><td>0.727325</td><td>0.3452</td></tr><tr><td>1.7198e9</td><td>1.0</td><td>1.0</td><td>2.0</td><td>5.0</td><td>3150.5</td><td>3153.0</td><td>0.808901</td><td>3150.5</td><td>412.0</td><td>504.0</td><td>32.418369</td><td>499.0</td><td>172.0</td><td>2368.0</td><td>625.171999</td><td>454.0</td><td>3147.58988</td><td>3148.43932</td><td>0.26107</td><td>3147.61723</td><td>3152.0644</td><td>3156.67401</td><td>1.606225</td><td>3156.67401</td><td>0.18159</td><td>2.78488</td><td>0.67557</td><td>1.09912</td></tr><tr><td>1.7198e9</td><td>0.0</td><td>0.0</td><td>2.0</td><td>8.0</td><td>3150.0</td><td>3150.0</td><td>0.0</td><td>3150.0</td><td>490.0</td><td>729.0</td><td>112.203007</td><td>495.0</td><td>284.0</td><td>516.0</td><td>47.711719</td><td>516.0</td><td>3146.44751</td><td>3147.63636</td><td>0.569952</td><td>3147.63131</td><td>3155.67782</td><td>3157.1596</td><td>0.325807</td><td>3156.87209</td><td>0.9593</td><td>1.74296</td><td>0.239929</td><td>0.9593</td></tr><tr><td>&hellip;</td><td>&hellip;</td><td>&hellip;</td><td>&hellip;</td><td>&hellip;</td><td>&hellip;</td><td>&hellip;</td><td>&hellip;</td><td>&hellip;</td><td>&hellip;</td><td>&hellip;</td><td>&hellip;</td><td>&hellip;</td><td>&hellip;</td><td>&hellip;</td><td>&hellip;</td><td>&hellip;</td><td>&hellip;</td><td>&hellip;</td><td>&hellip;</td><td>&hellip;</td><td>&hellip;</td><td>&hellip;</td><td>&hellip;</td><td>&hellip;</td><td>&hellip;</td><td>&hellip;</td><td>&hellip;</td><td>&hellip;</td></tr><tr><td>1.7201e9</td><td>1.0</td><td>5.0</td><td>1.0</td><td>21.0</td><td>3099.5</td><td>3099.5</td><td>0.0</td><td>3099.5</td><td>236.0</td><td>408.0</td><td>47.092221</td><td>236.0</td><td>416.0</td><td>935.0</td><td>135.520877</td><td>416.0</td><td>3093.13215</td><td>3096.63771</td><td>0.907405</td><td>3096.63771</td><td>3104.75817</td><td>3107.54971</td><td>0.811949</td><td>3106.28005</td><td>0.29305</td><td>0.98077</td><td>0.149919</td><td>0.56731</td></tr><tr><td>1.7201e9</td><td>8.0</td><td>107.0</td><td>3.0</td><td>20.0</td><td>3105.0</td><td>3106.5</td><td>0.506248</td><td>3106.5</td><td>165.0</td><td>407.0</td><td>76.112732</td><td>175.0</td><td>433.0</td><td>1589.0</td><td>281.798002</td><td>497.0</td><td>3096.86241</td><td>3100.18485</td><td>1.002867</td><td>3099.27429</td><td>3108.68554</td><td>3110.48929</td><td>0.396402</td><td>3109.58451</td><td>0.15464</td><td>0.64103</td><td>0.102929</td><td>0.35211</td></tr><tr><td>1.7201e9</td><td>1.0</td><td>1.0</td><td>0.0</td><td>0.0</td><td>3103.5</td><td>3103.5</td><td>0.0</td><td>3103.5</td><td>149.0</td><td>242.0</td><td>15.737232</td><td>175.0</td><td>451.0</td><td>1061.0</td><td>85.84658</td><td>602.0</td><td>3098.2686</td><td>3102.03429</td><td>0.919394</td><td>3102.03429</td><td>3108.59839</td><td>3111.91528</td><td>0.641131</td><td>3111.91528</td><td>0.17952</td><td>0.49897</td><td>0.050322</td><td>0.2907</td></tr><tr><td>1.7201e9</td><td>1.0</td><td>1.0</td><td>1.0</td><td>9.0</td><td>3105.0</td><td>3108.5</td><td>1.468558</td><td>3105.0</td><td>185.0</td><td>344.0</td><td>52.617776</td><td>324.0</td><td>433.0</td><td>1114.0</td><td>243.08599</td><td>1091.0</td><td>3098.07864</td><td>3101.93147</td><td>1.143356</td><td>3098.18673</td><td>3108.2536</td><td>3111.60661</td><td>0.723513</td><td>3109.73236</td><td>0.17684</td><td>0.74827</td><td>0.194176</td><td>0.29698</td></tr><tr><td>1.7201e9</td><td>1.0</td><td>5.0</td><td>3.0</td><td>7.0</td><td>3103.5</td><td>3103.5</td><td>0.0</td><td>3103.5</td><td>186.0</td><td>309.0</td><td>48.945868</td><td>192.0</td><td>971.0</td><td>1081.0</td><td>23.958694</td><td>1036.0</td><td>3097.87418</td><td>3101.2861</td><td>1.252377</td><td>3101.05469</td><td>3108.81434</td><td>3110.06095</td><td>0.27579</td><td>3109.70705</td><td>0.17481</td><td>0.31129</td><td>0.049023</td><td>0.18533</td></tr></tbody></table></div>"
      ],
      "text/plain": [
       "shape: (1_133, 29)\n",
       "┌──────────┬───────────┬───────────┬───────────┬───┬───────────┬───────────┬───────────┬───────────┐\n",
       "│ time     ┆ buyers_co ┆ buyers_qu ┆ sellers_c ┆ … ┆ bid_to_as ┆ bid_to_as ┆ bid_to_as ┆ bid_to_as │\n",
       "│ ---      ┆ unt       ┆ antity    ┆ ount      ┆   ┆ k_ratio_m ┆ k_ratio_m ┆ k_ratio_s ┆ k_ratio_l │\n",
       "│ f64      ┆ ---       ┆ ---       ┆ ---       ┆   ┆ in        ┆ ax        ┆ td        ┆ ast       │\n",
       "│          ┆ f64       ┆ f64       ┆ f64       ┆   ┆ ---       ┆ ---       ┆ ---       ┆ ---       │\n",
       "│          ┆           ┆           ┆           ┆   ┆ f64       ┆ f64       ┆ f64       ┆ f64       │\n",
       "╞══════════╪═══════════╪═══════════╪═══════════╪═══╪═══════════╪═══════════╪═══════════╪═══════════╡\n",
       "│ 1.7198e9 ┆ 1.0       ┆ 1.0       ┆ 0.0       ┆ … ┆ 1.30829   ┆ 1.61176   ┆ 0.078893  ┆ 1.43606   │\n",
       "│ 1.7198e9 ┆ 2.0       ┆ 8.0       ┆ 3.0       ┆ … ┆ 0.93696   ┆ 3.24074   ┆ 0.669301  ┆ 1.70438   │\n",
       "│ 1.7198e9 ┆ 4.0       ┆ 7.0       ┆ 2.0       ┆ … ┆ 0.3452    ┆ 4.71044   ┆ 0.727325  ┆ 0.3452    │\n",
       "│ 1.7198e9 ┆ 1.0       ┆ 1.0       ┆ 2.0       ┆ … ┆ 0.18159   ┆ 2.78488   ┆ 0.67557   ┆ 1.09912   │\n",
       "│ 1.7198e9 ┆ 0.0       ┆ 0.0       ┆ 2.0       ┆ … ┆ 0.9593    ┆ 1.74296   ┆ 0.239929  ┆ 0.9593    │\n",
       "│ …        ┆ …         ┆ …         ┆ …         ┆ … ┆ …         ┆ …         ┆ …         ┆ …         │\n",
       "│ 1.7201e9 ┆ 1.0       ┆ 5.0       ┆ 1.0       ┆ … ┆ 0.29305   ┆ 0.98077   ┆ 0.149919  ┆ 0.56731   │\n",
       "│ 1.7201e9 ┆ 8.0       ┆ 107.0     ┆ 3.0       ┆ … ┆ 0.15464   ┆ 0.64103   ┆ 0.102929  ┆ 0.35211   │\n",
       "│ 1.7201e9 ┆ 1.0       ┆ 1.0       ┆ 0.0       ┆ … ┆ 0.17952   ┆ 0.49897   ┆ 0.050322  ┆ 0.2907    │\n",
       "│ 1.7201e9 ┆ 1.0       ┆ 1.0       ┆ 1.0       ┆ … ┆ 0.17684   ┆ 0.74827   ┆ 0.194176  ┆ 0.29698   │\n",
       "│ 1.7201e9 ┆ 1.0       ┆ 5.0       ┆ 3.0       ┆ … ┆ 0.17481   ┆ 0.31129   ┆ 0.049023  ┆ 0.18533   │\n",
       "└──────────┴───────────┴───────────┴───────────┴───┴───────────┴───────────┴───────────┴───────────┘"
      ]
     },
     "execution_count": 37,
     "metadata": {},
     "output_type": "execute_result"
    }
   ],
   "source": [
    "sh"
   ]
  },
  {
   "cell_type": "code",
   "execution_count": 20,
   "metadata": {},
   "outputs": [],
   "source": [
    "from omegaconf import OmegaConf\n",
    "from cachetools import TTLCache\n",
    "from functools import cache"
   ]
  },
  {
   "cell_type": "code",
   "execution_count": null,
   "metadata": {},
   "outputs": [],
   "source": [
    "cache = TTLCache(1, 3600)"
   ]
  },
  {
   "cell_type": "code",
   "execution_count": 21,
   "metadata": {},
   "outputs": [],
   "source": [
    "@cache\n",
    "def get_trading_shares():\n",
    "    return dict(OmegaConf.load('D:\\Tinkoff-Trade-Assistant\\config\\shares.yaml'))\n",
    "\n",
    "def get_shares_endpoint():\n",
    "    shares = get_trading_shares()\n",
    "    return shares"
   ]
  },
  {
   "cell_type": "code",
   "execution_count": 22,
   "metadata": {},
   "outputs": [
    {
     "name": "stdout",
     "output_type": "stream",
     "text": [
      "153 ns ± 3.7 ns per loop (mean ± std. dev. of 7 runs, 10,000,000 loops each)\n"
     ]
    }
   ],
   "source": [
    "%timeit get_shares_endpoint()"
   ]
  },
  {
   "cell_type": "code",
   "execution_count": null,
   "metadata": {},
   "outputs": [],
   "source": []
  }
 ],
 "metadata": {
  "kernelspec": {
   "display_name": "Python 3",
   "language": "python",
   "name": "python3"
  },
  "language_info": {
   "codemirror_mode": {
    "name": "ipython",
    "version": 3
   },
   "file_extension": ".py",
   "mimetype": "text/x-python",
   "name": "python",
   "nbconvert_exporter": "python",
   "pygments_lexer": "ipython3",
   "version": "3.11.9"
  }
 },
 "nbformat": 4,
 "nbformat_minor": 2
}
